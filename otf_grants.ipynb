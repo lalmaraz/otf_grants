{
 "cells": [
  {
   "cell_type": "code",
   "execution_count": 207,
   "metadata": {},
   "outputs": [],
   "source": [
    "import pandas as pd\n",
    "#from sklearn.naive_bayes import MultinomialNB"
   ]
  },
  {
   "cell_type": "code",
   "execution_count": 301,
   "metadata": {},
   "outputs": [],
   "source": [
    "# Load data\n",
    "data = pd.read_csv('https://otf.ca/sites/default/files/OTF-Grants_since2000.csv')"
   ]
  },
  {
   "cell_type": "code",
   "execution_count": 302,
   "metadata": {},
   "outputs": [],
   "source": [
    "data = data.drop(columns=['Funding Org:Org subventionnaire', 'Country Served:Pays servis', 'Province Served:Province servis', 'Cross-catchment indicator:Indicateur interrégional', 'Co-Application:Co-demandeurs', 'Description (French/Français)', 'Grant Result:Résultat de subvention','Rescinded/Recovered:Révoqué/récupéré','Rescinded/Recovered Initiated By:Révoqué/récupéré intié par','Amount Rescinded/Recovered:Montant révoqué/récupéré', 'Last modified:Mise à jour'])\n",
    "data.columns = ['fiscal_year','grant_program','geographical_area','identifier','org_name','submission_date', 'approval_date', 'amount_applied', 'amount_awarded', 'planned_duration', 'description', 'program_area', 'budget_fund', 'org_incorporation_num', 'org_charitable_reg_num', 'org_city', 'org_postcode', 'population_served', 'age_group']"
   ]
  },
  {
   "cell_type": "code",
   "execution_count": 303,
   "metadata": {},
   "outputs": [],
   "source": [
    "description = pd.DataFrame(data, columns = ['description'])"
   ]
  },
  {
   "cell_type": "code",
   "execution_count": 304,
   "metadata": {},
   "outputs": [],
   "source": [
    "# remove structured text and keep only free-form text\n",
    "a = description['description'].str.split('programs for Ontarians by ').str[1].dropna()\n",
    "b = description['description'].str.split('grant over \\d+ years to ').str[1].dropna()\n",
    "c = description['description'].str.split('rebuild and recover from impacts of COVID-19 by ').str[1].dropna()\n",
    "d = description['description'].str.split('grant over \\d+ months to ').str[1].dropna()\n",
    "e = description['description'].str.split('\\$\\d+( \\w+|[\\d,]+) over \\d+ months to ').str[2].dropna()\n",
    "f = description['description'].str.split('\\$\\d+( \\w+|[\\d,]+) over one year to ').str[2].dropna()\n",
    "g = description['description'].str.split('\\$\\d+( \\w+|[\\d,]+) over two years to ').str[2].dropna()\n",
    "h = description['description'].str.split('\\$\\d+( \\w+|[\\d,]+) over three years to ').str[2].dropna()\n",
    "i = description['description'].str.split('\\$\\d+( \\w+|[\\d,]+) over six months to ').str[2].dropna()\n",
    "j = description['description'].str.split('This project aims to ').str[1].dropna()"
   ]
  },
  {
   "cell_type": "code",
   "execution_count": 305,
   "metadata": {
    "scrolled": true
   },
   "outputs": [],
   "source": [
    "description_clean = pd.concat([a, b, c, d, e, f, g, h, i, j], axis=0,ignore_index=False)\n",
    "description_clean = description_clean.to_frame()"
   ]
  },
  {
   "cell_type": "code",
   "execution_count": 306,
   "metadata": {},
   "outputs": [],
   "source": [
    "add_indices = pd.Index(range(27952)).difference(description_clean.index)\n",
    "add_df = pd.DataFrame(index=add_indices, columns=description_clean.columns).fillna(description)\n",
    "description_clean = pd.concat([description_clean, add_df])"
   ]
  },
  {
   "cell_type": "code",
   "execution_count": 307,
   "metadata": {},
   "outputs": [],
   "source": [
    "#from sklearn.feature_extraction.text import CountVectorizer\n",
    "#vectorizer = CountVectorizer(ngram_range=(1,1), min_df = 50, max_df = 0.95, stop_words='english')\n",
    "#counts_sparse = vectorizer.fit_transform(description_clean['description'])\n",
    "#counts = pd.DataFrame(counts_sparse.toarray(), index=description_clean.index, columns=vectorizer.get_feature_names())\n",
    "#counts"
   ]
  },
  {
   "cell_type": "code",
   "execution_count": 314,
   "metadata": {},
   "outputs": [],
   "source": [
    "from sklearn.feature_extraction.text import TfidfVectorizer\n",
    "vectorizer = TfidfVectorizer(ngram_range=(1,1), max_features = 300, stop_words = 'english')\n",
    "counts_sparse = vectorizer.fit_transform(description_clean['description'])\n",
    "counts = pd.DataFrame(counts_sparse.toarray(), index=description_clean.index, columns=vectorizer.get_feature_names())\n",
    "counts = counts.drop(counts.columns[0:11], axis=1) "
   ]
  },
  {
   "cell_type": "code",
   "execution_count": 317,
   "metadata": {
    "scrolled": true
   },
   "outputs": [
    {
     "data": {
      "text/plain": [
       "(27953, 289)"
      ]
     },
     "execution_count": 317,
     "metadata": {},
     "output_type": "execute_result"
    }
   ],
   "source": [
    "counts.shape"
   ]
  },
  {
   "cell_type": "code",
   "execution_count": 319,
   "metadata": {},
   "outputs": [
    {
     "data": {
      "image/png": "[encoded data removed]",
      "text/plain": [
       "<Figure size 576x432 with 1 Axes>"
      ]
     },
     "metadata": {
      "needs_background": "light"
     },
     "output_type": "display_data"
    }
   ],
   "source": [
    "from sklearn.decomposition import PCA\n",
    "from sklearn.preprocessing import LabelEncoder, StandardScaler\n",
    "import matplotlib.pyplot as plt\n",
    "enconder = LabelEncoder()\n",
    "\n",
    "for col in counts.columns:\n",
    "    counts[col] = enconder.fit_transform(counts[col])\n",
    "    \n",
    "counts_features = counts.iloc[:,1:289]\n",
    "counts_label = counts.iloc[:,0]\n",
    "\n",
    "scaler = StandardScaler()\n",
    "counts_features = scaler.fit_transform(counts_features)\n",
    "    \n",
    "pca = PCA()\n",
    "pca.fit_transform(counts_features)\n",
    "pca_variance = pca.explained_variance_\n",
    "\n",
    "plt.figure(figsize=(8, 6))\n",
    "plt.bar(range(288), pca_variance, alpha=0.5, align='center', label='individual variance')\n",
    "plt.legend()\n",
    "plt.ylabel('Variance ratio')\n",
    "plt.xlabel('Principal components')\n",
    "plt.show()"
   ]
  },
  {
   "cell_type": "code",
   "execution_count": 320,
   "metadata": {
    "scrolled": true
   },
   "outputs": [
    {
     "data": {
      "image/png": "[encoded data removed]",
      "text/plain": [
       "<Figure size 576x432 with 1 Axes>"
      ]
     },
     "metadata": {
      "needs_background": "light"
     },
     "output_type": "display_data"
    }
   ],
   "source": [
    "pca2 = PCA(n_components=10)\n",
    "pca2.fit(counts_features)\n",
    "counts_reduced = pca2.transform(counts_features)\n",
    "\n",
    "pca_variance2 = pca2.explained_variance_\n",
    "\n",
    "plt.figure(figsize=(8, 6))\n",
    "plt.bar(range(10), pca_variance2, alpha=0.5, align='center', label='individual variance')\n",
    "plt.legend()\n",
    "plt.ylabel('Variance ratio')\n",
    "plt.xlabel('Principal components')\n",
    "plt.show()\n"
   ]
  },
  {
   "cell_type": "code",
   "execution_count": null,
   "metadata": {},
   "outputs": [],
   "source": []
  },
  {
   "cell_type": "code",
   "execution_count": 247,
   "metadata": {},
   "outputs": [],
   "source": [
    "from sklearn.cluster import KMeans\n",
    "from sklearn.metrics import silhouette_score"
   ]
  },
  {
   "cell_type": "code",
   "execution_count": 226,
   "metadata": {},
   "outputs": [
    {
     "data": {
      "text/plain": [
       "Text(0, 0.5, 'inertia (WSS)')"
      ]
     },
     "execution_count": 226,
     "metadata": {},
     "output_type": "execute_result"
    },
    {
     "data": {
      "image/png": "[encoded data removed]",
      "text/plain": [
       "<Figure size 432x288 with 1 Axes>"
      ]
     },
     "metadata": {
      "needs_background": "light"
     },
     "output_type": "display_data"
    }
   ],
   "source": [
    "inertia_list = []\n",
    "for k in range(2,10):\n",
    "    model = KMeans(n_clusters=k)\n",
    "    model.fit(counts)\n",
    "    cluster_id = pd.Series(model.predict(counts))\n",
    "    inertia_list.append({'k':k, 'inertia':model.inertia_})\n",
    "\n",
    "ax = pd.DataFrame(inertia_list).set_index('k').plot.line()\n",
    "ax.set_ylabel('inertia (WSS)')"
   ]
  },
  {
   "cell_type": "code",
   "execution_count": 250,
   "metadata": {},
   "outputs": [
    {
     "data": {
      "text/html": [
       "<div>\n",
       "<style scoped>\n",
       "    .dataframe tbody tr th:only-of-type {\n",
       "        vertical-align: middle;\n",
       "    }\n",
       "\n",
       "    .dataframe tbody tr th {\n",
       "        vertical-align: top;\n",
       "    }\n",
       "\n",
       "    .dataframe thead th {\n",
       "        text-align: right;\n",
       "    }\n",
       "</style>\n",
       "<table border=\"1\" class=\"dataframe\">\n",
       "  <thead>\n",
       "    <tr style=\"text-align: right;\">\n",
       "      <th></th>\n",
       "      <th>000</th>\n",
       "      <th>10</th>\n",
       "      <th>100</th>\n",
       "      <th>11</th>\n",
       "      <th>12</th>\n",
       "      <th>13</th>\n",
       "      <th>14</th>\n",
       "      <th>15</th>\n",
       "      <th>150</th>\n",
       "      <th>16</th>\n",
       "      <th>...</th>\n",
       "      <th>works</th>\n",
       "      <th>workshop</th>\n",
       "      <th>workshops</th>\n",
       "      <th>world</th>\n",
       "      <th>would</th>\n",
       "      <th>year</th>\n",
       "      <th>years</th>\n",
       "      <th>york</th>\n",
       "      <th>young</th>\n",
       "      <th>youth</th>\n",
       "    </tr>\n",
       "  </thead>\n",
       "  <tbody>\n",
       "    <tr>\n",
       "      <th>0</th>\n",
       "      <td>0.002265</td>\n",
       "      <td>0.002307</td>\n",
       "      <td>0.000831</td>\n",
       "      <td>0.001077</td>\n",
       "      <td>0.002684</td>\n",
       "      <td>0.001470</td>\n",
       "      <td>0.001161</td>\n",
       "      <td>0.001706</td>\n",
       "      <td>0.000281</td>\n",
       "      <td>0.001551</td>\n",
       "      <td>...</td>\n",
       "      <td>0.001936</td>\n",
       "      <td>0.001712</td>\n",
       "      <td>0.009637</td>\n",
       "      <td>0.001877</td>\n",
       "      <td>0.001699</td>\n",
       "      <td>0.003558</td>\n",
       "      <td>0.002551</td>\n",
       "      <td>0.006091</td>\n",
       "      <td>0.009207</td>\n",
       "      <td>0.031296</td>\n",
       "    </tr>\n",
       "    <tr>\n",
       "      <th>1</th>\n",
       "      <td>0.095299</td>\n",
       "      <td>0.010388</td>\n",
       "      <td>0.012360</td>\n",
       "      <td>0.002963</td>\n",
       "      <td>0.009212</td>\n",
       "      <td>0.005032</td>\n",
       "      <td>0.005656</td>\n",
       "      <td>0.011730</td>\n",
       "      <td>0.005003</td>\n",
       "      <td>0.003791</td>\n",
       "      <td>...</td>\n",
       "      <td>0.001291</td>\n",
       "      <td>0.001615</td>\n",
       "      <td>0.005624</td>\n",
       "      <td>0.001672</td>\n",
       "      <td>0.001161</td>\n",
       "      <td>0.057561</td>\n",
       "      <td>0.068958</td>\n",
       "      <td>0.003963</td>\n",
       "      <td>0.006477</td>\n",
       "      <td>0.023384</td>\n",
       "    </tr>\n",
       "    <tr>\n",
       "      <th>2</th>\n",
       "      <td>0.035384</td>\n",
       "      <td>0.008720</td>\n",
       "      <td>0.008470</td>\n",
       "      <td>0.001704</td>\n",
       "      <td>0.005149</td>\n",
       "      <td>0.001324</td>\n",
       "      <td>0.001402</td>\n",
       "      <td>0.003713</td>\n",
       "      <td>0.005072</td>\n",
       "      <td>0.001901</td>\n",
       "      <td>...</td>\n",
       "      <td>0.000309</td>\n",
       "      <td>0.001650</td>\n",
       "      <td>0.004584</td>\n",
       "      <td>0.000089</td>\n",
       "      <td>0.000066</td>\n",
       "      <td>0.002110</td>\n",
       "      <td>0.000554</td>\n",
       "      <td>0.002385</td>\n",
       "      <td>0.004856</td>\n",
       "      <td>0.051842</td>\n",
       "    </tr>\n",
       "    <tr>\n",
       "      <th>3</th>\n",
       "      <td>0.004877</td>\n",
       "      <td>0.001763</td>\n",
       "      <td>0.002146</td>\n",
       "      <td>0.001023</td>\n",
       "      <td>0.001890</td>\n",
       "      <td>0.001261</td>\n",
       "      <td>0.001914</td>\n",
       "      <td>0.002126</td>\n",
       "      <td>0.000656</td>\n",
       "      <td>0.001271</td>\n",
       "      <td>...</td>\n",
       "      <td>0.000416</td>\n",
       "      <td>0.000467</td>\n",
       "      <td>0.001507</td>\n",
       "      <td>0.000443</td>\n",
       "      <td>0.000772</td>\n",
       "      <td>0.005455</td>\n",
       "      <td>0.002695</td>\n",
       "      <td>0.001514</td>\n",
       "      <td>0.004528</td>\n",
       "      <td>0.018179</td>\n",
       "    </tr>\n",
       "  </tbody>\n",
       "</table>\n",
       "<p>4 rows × 929 columns</p>\n",
       "</div>"
      ],
      "text/plain": [
       "        000        10       100        11        12        13        14  \\\n",
       "0  0.002265  0.002307  0.000831  0.001077  0.002684  0.001470  0.001161   \n",
       "1  0.095299  0.010388  0.012360  0.002963  0.009212  0.005032  0.005656   \n",
       "2  0.035384  0.008720  0.008470  0.001704  0.005149  0.001324  0.001402   \n",
       "3  0.004877  0.001763  0.002146  0.001023  0.001890  0.001261  0.001914   \n",
       "\n",
       "         15       150        16  ...     works  workshop  workshops     world  \\\n",
       "0  0.001706  0.000281  0.001551  ...  0.001936  0.001712   0.009637  0.001877   \n",
       "1  0.011730  0.005003  0.003791  ...  0.001291  0.001615   0.005624  0.001672   \n",
       "2  0.003713  0.005072  0.001901  ...  0.000309  0.001650   0.004584  0.000089   \n",
       "3  0.002126  0.000656  0.001271  ...  0.000416  0.000467   0.001507  0.000443   \n",
       "\n",
       "      would      year     years      york     young     youth  \n",
       "0  0.001699  0.003558  0.002551  0.006091  0.009207  0.031296  \n",
       "1  0.001161  0.057561  0.068958  0.003963  0.006477  0.023384  \n",
       "2  0.000066  0.002110  0.000554  0.002385  0.004856  0.051842  \n",
       "3  0.000772  0.005455  0.002695  0.001514  0.004528  0.018179  \n",
       "\n",
       "[4 rows x 929 columns]"
      ]
     },
     "execution_count": 250,
     "metadata": {},
     "output_type": "execute_result"
    }
   ],
   "source": [
    "sil_scores = []\n",
    "for k in range(3,9):\n",
    "    clusterer = KMeans(n_clusters=k)\n",
    "    clusterer.fit(counts)\n",
    "    label = clusterer.predict(counts)\n",
    "    sil_scores.append({'k':k, 'silhouette_score':silhouette_score(counts, label), 'label':label})\n",
    "\n",
    "# Select best labels (based on silhouette score)\n",
    "sil_scores = pd.DataFrame(sil_scores)\n",
    "best_label = sil_scores.loc[sil_scores['silhouette_score'].idxmax(),'label']\n",
    "best_label\n",
    "\n",
    "# Present some summary statistics for each clusters\n",
    "counts.groupby(best_label).mean()"
   ]
  },
  {
   "cell_type": "code",
   "execution_count": 181,
   "metadata": {},
   "outputs": [],
   "source": [
    "#pd.DataFrame(x).to_csv('x.csv', index=True, header=False)"
   ]
  },
  {
   "cell_type": "code",
   "execution_count": 156,
   "metadata": {},
   "outputs": [],
   "source": [
    "#pd.DataFrame(description).to_csv('desc.csv', index=True, header=False)"
   ]
  },
  {
   "cell_type": "code",
   "execution_count": 246,
   "metadata": {
    "scrolled": true
   },
   "outputs": [
    {
     "data": {
      "image/png": "[encoded data removed]",
      "text/plain": [
       "<Figure size 432x288 with 1 Axes>"
      ]
     },
     "metadata": {
      "needs_background": "light"
     },
     "output_type": "display_data"
    }
   ],
   "source": [
    "model = KMeans(n_clusters=6)\n",
    "model.fit(counts)\n",
    "assignments = pd.Series(model.predict(counts))\n",
    "ax = counts.plot.scatter(0, 1, 3)"
   ]
  },
  {
   "cell_type": "code",
   "execution_count": null,
   "metadata": {},
   "outputs": [],
   "source": []
  },
  {
   "cell_type": "code",
   "execution_count": null,
   "metadata": {},
   "outputs": [],
   "source": []
  },
  {
   "cell_type": "code",
   "execution_count": null,
   "metadata": {},
   "outputs": [],
   "source": []
  },
  {
   "cell_type": "code",
   "execution_count": 5,
   "metadata": {},
   "outputs": [],
   "source": []
  },
  {
   "cell_type": "code",
   "execution_count": 88,
   "metadata": {},
   "outputs": [],
   "source": []
  },
  {
   "cell_type": "code",
   "execution_count": 89,
   "metadata": {},
   "outputs": [],
   "source": [
    "# Split data for classif\n",
    "#training = featured.head(22360)\n",
    "#testing = featured.tail(5593)\n",
    "#holdout = training.groupby('grant_program', group_keys=False).apply(lambda x: x.sample(frac=0.2, random_state=3))\n",
    "#training = training.drop(holdout.index)"
   ]
  },
  {
   "cell_type": "code",
   "execution_count": null,
   "metadata": {},
   "outputs": [],
   "source": []
  },
  {
   "cell_type": "code",
   "execution_count": null,
   "metadata": {},
   "outputs": [],
   "source": []
  },
  {
   "cell_type": "code",
   "execution_count": null,
   "metadata": {},
   "outputs": [],
   "source": []
  },
  {
   "cell_type": "code",
   "execution_count": null,
   "metadata": {},
   "outputs": [],
   "source": []
  },
  {
   "cell_type": "code",
   "execution_count": null,
   "metadata": {
    "scrolled": true
   },
   "outputs": [],
   "source": []
  },
  {
   "cell_type": "code",
   "execution_count": null,
   "metadata": {},
   "outputs": [],
   "source": []
  },
  {
   "cell_type": "code",
   "execution_count": null,
   "metadata": {},
   "outputs": [],
   "source": []
  },
  {
   "cell_type": "code",
   "execution_count": null,
   "metadata": {},
   "outputs": [],
   "source": []
  },
  {
   "cell_type": "code",
   "execution_count": null,
   "metadata": {},
   "outputs": [],
   "source": []
  },
  {
   "cell_type": "code",
   "execution_count": null,
   "metadata": {},
   "outputs": [],
   "source": []
  },
  {
   "cell_type": "code",
   "execution_count": null,
   "metadata": {},
   "outputs": [],
   "source": []
  },
  {
   "cell_type": "code",
   "execution_count": null,
   "metadata": {},
   "outputs": [],
   "source": []
  },
  {
   "cell_type": "code",
   "execution_count": null,
   "metadata": {},
   "outputs": [],
   "source": []
  },
  {
   "cell_type": "code",
   "execution_count": null,
   "metadata": {},
   "outputs": [],
   "source": []
  }
 ],
 "metadata": {
  "kernelspec": {
   "display_name": "Python 3",
   "language": "python",
   "name": "python3"
  },
  "language_info": {
   "codemirror_mode": {
    "name": "ipython",
    "version": 3
   },
   "file_extension": ".py",
   "mimetype": "text/x-python",
   "name": "python",
   "nbconvert_exporter": "python",
   "pygments_lexer": "ipython3",
   "version": "3.8.3"
  }
 },
 "nbformat": 4,
 "nbformat_minor": 5
}
