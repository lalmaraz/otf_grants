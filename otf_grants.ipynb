{
 "cells": [
  {
   "cell_type": "code",
   "execution_count": 325,
   "metadata": {},
   "outputs": [],
   "source": [
    "import pandas as pd\n",
    "#from sklearn.naive_bayes import MultinomialNB"
   ]
  },
  {
   "cell_type": "code",
   "execution_count": 326,
   "metadata": {},
   "outputs": [],
   "source": [
    "# Load data\n",
    "data = pd.read_csv('https://otf.ca/sites/default/files/OTF-Grants_since2000.csv')"
   ]
  },
  {
   "cell_type": "code",
   "execution_count": 327,
   "metadata": {},
   "outputs": [],
   "source": [
    "data = data.drop(columns=['Funding Org:Org subventionnaire', 'Country Served:Pays servis', 'Province Served:Province servis', 'Cross-catchment indicator:Indicateur interrégional', 'Co-Application:Co-demandeurs', 'Description (French/Français)', 'Grant Result:Résultat de subvention','Rescinded/Recovered:Révoqué/récupéré','Rescinded/Recovered Initiated By:Révoqué/récupéré intié par','Amount Rescinded/Recovered:Montant révoqué/récupéré', 'Last modified:Mise à jour'])\n",
    "data.columns = ['fiscal_year','grant_program','geographical_area','identifier','org_name','submission_date', 'approval_date', 'amount_applied', 'amount_awarded', 'planned_duration', 'description', 'program_area', 'budget_fund', 'org_incorporation_num', 'org_charitable_reg_num', 'org_city', 'org_postcode', 'population_served', 'age_group']"
   ]
  },
  {
   "cell_type": "code",
   "execution_count": 328,
   "metadata": {},
   "outputs": [],
   "source": [
    "description = pd.DataFrame(data, columns = ['description'])"
   ]
  },
  {
   "cell_type": "code",
   "execution_count": 329,
   "metadata": {},
   "outputs": [],
   "source": [
    "# remove structured text and keep only free-form text\n",
    "a = description['description'].str.split('programs for Ontarians by ').str[1].dropna()\n",
    "b = description['description'].str.split('grant over \\d+ years to ').str[1].dropna()\n",
    "c = description['description'].str.split('rebuild and recover from impacts of COVID-19 by ').str[1].dropna()\n",
    "d = description['description'].str.split('grant over \\d+ months to ').str[1].dropna()\n",
    "e = description['description'].str.split('\\$\\d+( \\w+|[\\d,]+) over \\d+ months to ').str[2].dropna()\n",
    "f = description['description'].str.split('\\$\\d+( \\w+|[\\d,]+) over one year to ').str[2].dropna()\n",
    "g = description['description'].str.split('\\$\\d+( \\w+|[\\d,]+) over two years to ').str[2].dropna()\n",
    "h = description['description'].str.split('\\$\\d+( \\w+|[\\d,]+) over three years to ').str[2].dropna()\n",
    "i = description['description'].str.split('\\$\\d+( \\w+|[\\d,]+) over six months to ').str[2].dropna()\n",
    "j = description['description'].str.split('This project aims to ').str[1].dropna()"
   ]
  },
  {
   "cell_type": "code",
   "execution_count": 330,
   "metadata": {
    "scrolled": true
   },
   "outputs": [],
   "source": [
    "description_clean = pd.concat([a, b, c, d, e, f, g, h, i, j], axis=0,ignore_index=False)\n",
    "description_clean = description_clean.to_frame()"
   ]
  },
  {
   "cell_type": "code",
   "execution_count": 331,
   "metadata": {},
   "outputs": [],
   "source": [
    "add_indices = pd.Index(range(27952)).difference(description_clean.index)\n",
    "add_df = pd.DataFrame(index=add_indices, columns=description_clean.columns).fillna(description)\n",
    "description_clean = pd.concat([description_clean, add_df])"
   ]
  },
  {
   "cell_type": "code",
   "execution_count": 332,
   "metadata": {},
   "outputs": [],
   "source": [
    "#from sklearn.feature_extraction.text import CountVectorizer\n",
    "#vectorizer = CountVectorizer(ngram_range=(1,1), min_df = 50, max_df = 0.95, stop_words='english')\n",
    "#counts_sparse = vectorizer.fit_transform(description_clean['description'])\n",
    "#counts = pd.DataFrame(counts_sparse.toarray(), index=description_clean.index, columns=vectorizer.get_feature_names())\n",
    "#counts"
   ]
  },
  {
   "cell_type": "code",
   "execution_count": 333,
   "metadata": {},
   "outputs": [],
   "source": [
    "from sklearn.feature_extraction.text import TfidfVectorizer\n",
    "vectorizer = TfidfVectorizer(ngram_range=(1,1), max_features = 300, stop_words = 'english')\n",
    "counts_sparse = vectorizer.fit_transform(description_clean['description'])\n",
    "counts = pd.DataFrame(counts_sparse.toarray(), index=description_clean.index, columns=vectorizer.get_feature_names())\n",
    "counts = counts.drop(counts.columns[0:11], axis=1) "
   ]
  },
  {
   "cell_type": "code",
   "execution_count": 334,
   "metadata": {
    "scrolled": true
   },
   "outputs": [
    {
     "data": {
      "text/plain": [
       "(27953, 289)"
      ]
     },
     "execution_count": 334,
     "metadata": {},
     "output_type": "execute_result"
    }
   ],
   "source": [
    "counts.shape"
   ]
  },
  {
   "cell_type": "code",
   "execution_count": 335,
   "metadata": {},
   "outputs": [
    {
     "data": {
      "image/png": "[encoded data removed]",
      "text/plain": [
       "<Figure size 576x432 with 1 Axes>"
      ]
     },
     "metadata": {
      "needs_background": "light"
     },
     "output_type": "display_data"
    }
   ],
   "source": [
    "from sklearn.decomposition import PCA\n",
    "from sklearn.preprocessing import LabelEncoder, StandardScaler\n",
    "import matplotlib.pyplot as plt\n",
    "enconder = LabelEncoder()\n",
    "\n",
    "for col in counts.columns:\n",
    "    counts[col] = enconder.fit_transform(counts[col])\n",
    "    \n",
    "counts_features = counts.iloc[:,1:289]\n",
    "counts_label = counts.iloc[:,0]\n",
    "\n",
    "scaler = StandardScaler()\n",
    "counts_features = scaler.fit_transform(counts_features)\n",
    "    \n",
    "pca = PCA()\n",
    "pca.fit_transform(counts_features)\n",
    "pca_variance = pca.explained_variance_\n",
    "\n",
    "plt.figure(figsize=(8, 6))\n",
    "plt.bar(range(288), pca_variance, alpha=0.5, align='center', label='individual variance')\n",
    "plt.legend()\n",
    "plt.ylabel('Variance ratio')\n",
    "plt.xlabel('Principal components')\n",
    "plt.show()"
   ]
  },
  {
   "cell_type": "code",
   "execution_count": 336,
   "metadata": {
    "scrolled": true
   },
   "outputs": [
    {
     "data": {
      "image/png": "[encoded data removed]",
      "text/plain": [
       "<Figure size 576x432 with 1 Axes>"
      ]
     },
     "metadata": {
      "needs_background": "light"
     },
     "output_type": "display_data"
    }
   ],
   "source": [
    "pca2 = PCA(n_components=10)\n",
    "pca2.fit(counts_features)\n",
    "counts_reduced = pca2.transform(counts_features)\n",
    "\n",
    "pca_variance2 = pca2.explained_variance_\n",
    "\n",
    "plt.figure(figsize=(8, 6))\n",
    "plt.bar(range(10), pca_variance2, alpha=0.5, align='center', label='individual variance')\n",
    "plt.legend()\n",
    "plt.ylabel('Variance ratio')\n",
    "plt.xlabel('Principal components')\n",
    "plt.show()\n"
   ]
  },
  {
   "cell_type": "code",
   "execution_count": null,
   "metadata": {},
   "outputs": [],
   "source": []
  },
  {
   "cell_type": "code",
   "execution_count": 337,
   "metadata": {},
   "outputs": [],
   "source": [
    "from sklearn.cluster import KMeans\n",
    "from sklearn.metrics import silhouette_score"
   ]
  },
  {
   "cell_type": "code",
   "execution_count": 338,
   "metadata": {},
   "outputs": [],
   "source": [
    "#inertia_list = []\n",
    "#for k in range(2,10):\n",
    "#    model = KMeans(n_clusters=k)\n",
    "#    model.fit(counts)\n",
    "#    cluster_id = pd.Series(model.predict(counts))\n",
    "#    inertia_list.append({'k':k, 'inertia':model.inertia_})\n",
    "#\n",
    "#ax = pd.DataFrame(inertia_list).set_index('k').plot.line()\n",
    "#ax.set_ylabel('inertia (WSS)')"
   ]
  },
  {
   "cell_type": "code",
   "execution_count": 341,
   "metadata": {},
   "outputs": [
    {
     "data": {
      "text/html": [
       "<div>\n",
       "<style scoped>\n",
       "    .dataframe tbody tr th:only-of-type {\n",
       "        vertical-align: middle;\n",
       "    }\n",
       "\n",
       "    .dataframe tbody tr th {\n",
       "        vertical-align: top;\n",
       "    }\n",
       "\n",
       "    .dataframe thead th {\n",
       "        text-align: right;\n",
       "    }\n",
       "</style>\n",
       "<table border=\"1\" class=\"dataframe\">\n",
       "  <thead>\n",
       "    <tr style=\"text-align: right;\">\n",
       "      <th></th>\n",
       "      <th>abilities</th>\n",
       "      <th>able</th>\n",
       "      <th>aboriginal</th>\n",
       "      <th>access</th>\n",
       "      <th>accessibility</th>\n",
       "      <th>accessible</th>\n",
       "      <th>active</th>\n",
       "      <th>activities</th>\n",
       "      <th>activity</th>\n",
       "      <th>additional</th>\n",
       "      <th>...</th>\n",
       "      <th>website</th>\n",
       "      <th>wellbeing</th>\n",
       "      <th>women</th>\n",
       "      <th>work</th>\n",
       "      <th>workshops</th>\n",
       "      <th>year</th>\n",
       "      <th>years</th>\n",
       "      <th>york</th>\n",
       "      <th>young</th>\n",
       "      <th>youth</th>\n",
       "    </tr>\n",
       "  </thead>\n",
       "  <tbody>\n",
       "    <tr>\n",
       "      <th>0</th>\n",
       "      <td>4.027094</td>\n",
       "      <td>3.625930</td>\n",
       "      <td>1.786260</td>\n",
       "      <td>58.672786</td>\n",
       "      <td>6.353008</td>\n",
       "      <td>35.519008</td>\n",
       "      <td>6.952832</td>\n",
       "      <td>66.932498</td>\n",
       "      <td>10.246243</td>\n",
       "      <td>2.821988</td>\n",
       "      <td>...</td>\n",
       "      <td>4.448333</td>\n",
       "      <td>0.284050</td>\n",
       "      <td>13.727027</td>\n",
       "      <td>13.330074</td>\n",
       "      <td>14.468667</td>\n",
       "      <td>54.959332</td>\n",
       "      <td>66.027719</td>\n",
       "      <td>4.122575</td>\n",
       "      <td>16.525664</td>\n",
       "      <td>402.356493</td>\n",
       "    </tr>\n",
       "    <tr>\n",
       "      <th>1</th>\n",
       "      <td>6.275245</td>\n",
       "      <td>4.435439</td>\n",
       "      <td>0.984171</td>\n",
       "      <td>82.970101</td>\n",
       "      <td>11.214568</td>\n",
       "      <td>65.972006</td>\n",
       "      <td>12.437491</td>\n",
       "      <td>105.819581</td>\n",
       "      <td>11.171039</td>\n",
       "      <td>1.918804</td>\n",
       "      <td>...</td>\n",
       "      <td>2.206214</td>\n",
       "      <td>2.850799</td>\n",
       "      <td>6.902829</td>\n",
       "      <td>15.206214</td>\n",
       "      <td>9.429430</td>\n",
       "      <td>59.080756</td>\n",
       "      <td>48.752895</td>\n",
       "      <td>4.277444</td>\n",
       "      <td>10.195369</td>\n",
       "      <td>226.825150</td>\n",
       "    </tr>\n",
       "    <tr>\n",
       "      <th>2</th>\n",
       "      <td>1.003156</td>\n",
       "      <td>12.352972</td>\n",
       "      <td>0.089427</td>\n",
       "      <td>29.047344</td>\n",
       "      <td>3.775907</td>\n",
       "      <td>39.701736</td>\n",
       "      <td>132.739611</td>\n",
       "      <td>96.415571</td>\n",
       "      <td>13.099947</td>\n",
       "      <td>0.192530</td>\n",
       "      <td>...</td>\n",
       "      <td>0.048396</td>\n",
       "      <td>55.709100</td>\n",
       "      <td>3.722777</td>\n",
       "      <td>2.397685</td>\n",
       "      <td>3.330878</td>\n",
       "      <td>2.601789</td>\n",
       "      <td>1.185692</td>\n",
       "      <td>0.712783</td>\n",
       "      <td>6.217780</td>\n",
       "      <td>264.872699</td>\n",
       "    </tr>\n",
       "  </tbody>\n",
       "</table>\n",
       "<p>3 rows × 289 columns</p>\n",
       "</div>"
      ],
      "text/plain": [
       "   abilities       able  aboriginal     access  accessibility  accessible  \\\n",
       "0   4.027094   3.625930    1.786260  58.672786       6.353008   35.519008   \n",
       "1   6.275245   4.435439    0.984171  82.970101      11.214568   65.972006   \n",
       "2   1.003156  12.352972    0.089427  29.047344       3.775907   39.701736   \n",
       "\n",
       "       active  activities   activity  additional  ...   website  wellbeing  \\\n",
       "0    6.952832   66.932498  10.246243    2.821988  ...  4.448333   0.284050   \n",
       "1   12.437491  105.819581  11.171039    1.918804  ...  2.206214   2.850799   \n",
       "2  132.739611   96.415571  13.099947    0.192530  ...  0.048396  55.709100   \n",
       "\n",
       "       women       work  workshops       year      years      york      young  \\\n",
       "0  13.727027  13.330074  14.468667  54.959332  66.027719  4.122575  16.525664   \n",
       "1   6.902829  15.206214   9.429430  59.080756  48.752895  4.277444  10.195369   \n",
       "2   3.722777   2.397685   3.330878   2.601789   1.185692  0.712783   6.217780   \n",
       "\n",
       "        youth  \n",
       "0  402.356493  \n",
       "1  226.825150  \n",
       "2  264.872699  \n",
       "\n",
       "[3 rows x 289 columns]"
      ]
     },
     "execution_count": 341,
     "metadata": {},
     "output_type": "execute_result"
    }
   ],
   "source": [
    "sil_scores = []\n",
    "for k in range(3,9):\n",
    "    clusterer = KMeans(n_clusters=k)\n",
    "    clusterer.fit(counts)\n",
    "    label = clusterer.predict(counts)\n",
    "    sil_scores.append({'k':k, 'silhouette_score':silhouette_score(counts, label), 'label':label})\n",
    "\n",
    "# Select best labels (based on silhouette score)\n",
    "sil_scores = pd.DataFrame(sil_scores)\n",
    "best_label = sil_scores.loc[sil_scores['silhouette_score'].idxmax(),'label']\n",
    "best_label\n",
    "\n",
    "# Present some summary statistics for each clusters\n",
    "pd.DataFrame(counts).groupby(best_label).mean()"
   ]
  },
  {
   "cell_type": "code",
   "execution_count": 342,
   "metadata": {},
   "outputs": [
    {
     "data": {
      "text/html": [
       "<div>\n",
       "<style scoped>\n",
       "    .dataframe tbody tr th:only-of-type {\n",
       "        vertical-align: middle;\n",
       "    }\n",
       "\n",
       "    .dataframe tbody tr th {\n",
       "        vertical-align: top;\n",
       "    }\n",
       "\n",
       "    .dataframe thead th {\n",
       "        text-align: right;\n",
       "    }\n",
       "</style>\n",
       "<table border=\"1\" class=\"dataframe\">\n",
       "  <thead>\n",
       "    <tr style=\"text-align: right;\">\n",
       "      <th></th>\n",
       "      <th>0</th>\n",
       "      <th>1</th>\n",
       "      <th>2</th>\n",
       "      <th>3</th>\n",
       "      <th>4</th>\n",
       "      <th>5</th>\n",
       "      <th>6</th>\n",
       "      <th>7</th>\n",
       "      <th>8</th>\n",
       "      <th>9</th>\n",
       "    </tr>\n",
       "  </thead>\n",
       "  <tbody>\n",
       "    <tr>\n",
       "      <th>0</th>\n",
       "      <td>7.717719</td>\n",
       "      <td>0.397291</td>\n",
       "      <td>-0.609481</td>\n",
       "      <td>4.131650</td>\n",
       "      <td>0.208360</td>\n",
       "      <td>0.361026</td>\n",
       "      <td>2.408230</td>\n",
       "      <td>-0.931009</td>\n",
       "      <td>-0.659538</td>\n",
       "      <td>0.221754</td>\n",
       "    </tr>\n",
       "    <tr>\n",
       "      <th>1</th>\n",
       "      <td>4.983199</td>\n",
       "      <td>2.230347</td>\n",
       "      <td>9.129778</td>\n",
       "      <td>-2.519421</td>\n",
       "      <td>0.742613</td>\n",
       "      <td>0.460178</td>\n",
       "      <td>-1.500781</td>\n",
       "      <td>0.240016</td>\n",
       "      <td>-0.017527</td>\n",
       "      <td>0.702032</td>\n",
       "    </tr>\n",
       "    <tr>\n",
       "      <th>2</th>\n",
       "      <td>8.715763</td>\n",
       "      <td>-3.984873</td>\n",
       "      <td>-3.556345</td>\n",
       "      <td>-6.283369</td>\n",
       "      <td>-3.058717</td>\n",
       "      <td>-1.801610</td>\n",
       "      <td>-2.002500</td>\n",
       "      <td>-0.394763</td>\n",
       "      <td>0.541968</td>\n",
       "      <td>-0.170681</td>\n",
       "    </tr>\n",
       "    <tr>\n",
       "      <th>3</th>\n",
       "      <td>2.074562</td>\n",
       "      <td>5.808189</td>\n",
       "      <td>-4.112471</td>\n",
       "      <td>-3.202082</td>\n",
       "      <td>6.801602</td>\n",
       "      <td>1.781180</td>\n",
       "      <td>-0.576607</td>\n",
       "      <td>0.591262</td>\n",
       "      <td>1.941959</td>\n",
       "      <td>1.458933</td>\n",
       "    </tr>\n",
       "    <tr>\n",
       "      <th>4</th>\n",
       "      <td>-0.702734</td>\n",
       "      <td>-0.109004</td>\n",
       "      <td>-0.036033</td>\n",
       "      <td>0.084887</td>\n",
       "      <td>-0.104764</td>\n",
       "      <td>-0.025758</td>\n",
       "      <td>-0.013428</td>\n",
       "      <td>0.031529</td>\n",
       "      <td>-0.023245</td>\n",
       "      <td>-0.054554</td>\n",
       "    </tr>\n",
       "  </tbody>\n",
       "</table>\n",
       "</div>"
      ],
      "text/plain": [
       "          0         1         2         3         4         5         6  \\\n",
       "0  7.717719  0.397291 -0.609481  4.131650  0.208360  0.361026  2.408230   \n",
       "1  4.983199  2.230347  9.129778 -2.519421  0.742613  0.460178 -1.500781   \n",
       "2  8.715763 -3.984873 -3.556345 -6.283369 -3.058717 -1.801610 -2.002500   \n",
       "3  2.074562  5.808189 -4.112471 -3.202082  6.801602  1.781180 -0.576607   \n",
       "4 -0.702734 -0.109004 -0.036033  0.084887 -0.104764 -0.025758 -0.013428   \n",
       "\n",
       "          7         8         9  \n",
       "0 -0.931009 -0.659538  0.221754  \n",
       "1  0.240016 -0.017527  0.702032  \n",
       "2 -0.394763  0.541968 -0.170681  \n",
       "3  0.591262  1.941959  1.458933  \n",
       "4  0.031529 -0.023245 -0.054554  "
      ]
     },
     "execution_count": 342,
     "metadata": {},
     "output_type": "execute_result"
    }
   ],
   "source": [
    "sil_scores = []\n",
    "for k in range(3,9):\n",
    "    clusterer = KMeans(n_clusters=k)\n",
    "    clusterer.fit(counts_reduced)\n",
    "    label = clusterer.predict(counts_reduced)\n",
    "    sil_scores.append({'k':k, 'silhouette_score':silhouette_score(counts_reduced, label), 'label':label})\n",
    "\n",
    "# Select best labels (based on silhouette score)\n",
    "sil_scores = pd.DataFrame(sil_scores)\n",
    "best_label = sil_scores.loc[sil_scores['silhouette_score'].idxmax(),'label']\n",
    "best_label\n",
    "\n",
    "# Present some summary statistics for each clusters\n",
    "pd.DataFrame(counts_reduced).groupby(best_label).mean()"
   ]
  },
  {
   "cell_type": "code",
   "execution_count": null,
   "metadata": {},
   "outputs": [],
   "source": [
    "#pd.DataFrame(x).to_csv('x.csv', index=True, header=False)"
   ]
  },
  {
   "cell_type": "code",
   "execution_count": 156,
   "metadata": {},
   "outputs": [],
   "source": [
    "#pd.DataFrame(description).to_csv('desc.csv', index=True, header=False)"
   ]
  },
  {
   "cell_type": "code",
   "execution_count": null,
   "metadata": {
    "scrolled": true
   },
   "outputs": [],
   "source": [
    "#model = KMeans(n_clusters=6)\n",
    "#model.fit(counts)\n",
    "#assignments = pd.Series(model.predict(counts))\n",
    "#ax = counts.plot.scatter(0, 1, 3)"
   ]
  },
  {
   "cell_type": "code",
   "execution_count": 89,
   "metadata": {},
   "outputs": [],
   "source": [
    "# Split data for classif\n",
    "#training = featured.head(22360)\n",
    "#testing = featured.tail(5593)\n",
    "#holdout = training.groupby('grant_program', group_keys=False).apply(lambda x: x.sample(frac=0.2, random_state=3))\n",
    "#training = training.drop(holdout.index)"
   ]
  },
  {
   "cell_type": "code",
   "execution_count": null,
   "metadata": {},
   "outputs": [],
   "source": []
  },
  {
   "cell_type": "code",
   "execution_count": null,
   "metadata": {},
   "outputs": [],
   "source": []
  },
  {
   "cell_type": "code",
   "execution_count": null,
   "metadata": {},
   "outputs": [],
   "source": []
  },
  {
   "cell_type": "code",
   "execution_count": null,
   "metadata": {},
   "outputs": [],
   "source": []
  },
  {
   "cell_type": "code",
   "execution_count": null,
   "metadata": {
    "scrolled": true
   },
   "outputs": [],
   "source": []
  },
  {
   "cell_type": "code",
   "execution_count": null,
   "metadata": {},
   "outputs": [],
   "source": []
  },
  {
   "cell_type": "code",
   "execution_count": null,
   "metadata": {},
   "outputs": [],
   "source": []
  },
  {
   "cell_type": "code",
   "execution_count": null,
   "metadata": {},
   "outputs": [],
   "source": []
  },
  {
   "cell_type": "code",
   "execution_count": null,
   "metadata": {},
   "outputs": [],
   "source": []
  },
  {
   "cell_type": "code",
   "execution_count": null,
   "metadata": {},
   "outputs": [],
   "source": []
  },
  {
   "cell_type": "code",
   "execution_count": null,
   "metadata": {},
   "outputs": [],
   "source": []
  },
  {
   "cell_type": "code",
   "execution_count": null,
   "metadata": {},
   "outputs": [],
   "source": []
  },
  {
   "cell_type": "code",
   "execution_count": null,
   "metadata": {},
   "outputs": [],
   "source": []
  },
  {
   "cell_type": "code",
   "execution_count": null,
   "metadata": {},
   "outputs": [],
   "source": []
  }
 ],
 "metadata": {
  "kernelspec": {
   "display_name": "Python 3",
   "language": "python",
   "name": "python3"
  },
  "language_info": {
   "codemirror_mode": {
    "name": "ipython",
    "version": 3
   },
   "file_extension": ".py",
   "mimetype": "text/x-python",
   "name": "python",
   "nbconvert_exporter": "python",
   "pygments_lexer": "ipython3",
   "version": "3.8.3"
  }
 },
 "nbformat": 4,
 "nbformat_minor": 5
}
