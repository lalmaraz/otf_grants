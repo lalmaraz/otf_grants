{
  "nbformat": 4,
  "nbformat_minor": 0,
  "metadata": {
    "colab": {
      "name": "Revised INF 2179 Group Project.ipynb",
      "provenance": [],
      "collapsed_sections": [],
      "toc_visible": true
    },
    "kernelspec": {
      "name": "python3",
      "display_name": "Python 3"
    },
    "language_info": {
      "name": "python"
    }
  },
  "cells": [
    {
      "cell_type": "markdown",
      "metadata": {
        "id": "4k-hSPAq3hNy"
      },
      "source": [
        "#Import libraries"
      ]
    },
    {
      "cell_type": "code",
      "metadata": {
        "colab": {
          "base_uri": "https://localhost:8080/",
          "height": 0
        },
        "id": "oMb4wM4hogkV",
        "outputId": "2ba706cc-bdbd-43a4-afb1-ed3da3f80691"
      },
      "source": [
        "#import libraries\n",
        "\n",
        "import pandas as pd\n",
        "import numpy as np\n",
        "import matplotlib.pyplot as plt\n",
        "%matplotlib inline\n",
        "#!pip install seaborn\n",
        "import seaborn as sns\n",
        "import nltk\n",
        "import nltk.stem \n",
        "from nltk.stem import WordNetLemmatizer\n",
        "from nltk.stem.porter import PorterStemmer \n",
        "from nltk.tokenize import word_tokenize\n",
        "from nltk.corpus import wordnet\n",
        "from nltk.corpus import stopwords\n",
        "import string\n",
        "import re\n",
        "nltk.download('wordnet')\n",
        "nltk.download('averaged_perceptron_tagger')\n",
        "nltk.download('punkt')\n",
        "nltk.download('stopwords')\n",
        "from sklearn.feature_extraction.text import TfidfVectorizer\n",
        "from sklearn.feature_extraction import text\n",
        "from sklearn.preprocessing import LabelEncoder, StandardScaler\n",
        "from sklearn.cluster import KMeans\n",
        "from sklearn.cluster import AgglomerativeClustering\n",
        "from sklearn import metrics\n",
        "from sklearn.metrics import silhouette_score\n",
        "from sklearn.naive_bayes import MultinomialNB\n",
        "from sklearn.metrics import accuracy_score\n",
        "from sklearn.ensemble import RandomForestClassifier\n",
        "from sklearn.feature_selection import SelectFromModel\n",
        "from sklearn.model_selection import train_test_split\n",
        "from sklearn.model_selection import KFold,StratifiedKFold\n",
        "from sklearn.dummy import DummyClassifier\n",
        "from sklearn.metrics import f1_score\n",
        "from sklearn.metrics import classification_report\n",
        "from sklearn.naive_bayes import BernoulliNB\n",
        "from wordcloud import WordCloud\n",
        "\n"
      ],
      "execution_count": 175,
      "outputs": [
        {
          "output_type": "stream",
          "name": "stdout",
          "text": [
            "[nltk_data] Downloading package wordnet to /root/nltk_data...\n",
            "[nltk_data]   Package wordnet is already up-to-date!\n",
            "[nltk_data] Downloading package averaged_perceptron_tagger to\n",
            "[nltk_data]     /root/nltk_data...\n",
            "[nltk_data]   Package averaged_perceptron_tagger is already up-to-\n",
            "[nltk_data]       date!\n",
            "[nltk_data] Downloading package punkt to /root/nltk_data...\n",
            "[nltk_data]   Package punkt is already up-to-date!\n",
            "[nltk_data] Downloading package stopwords to /root/nltk_data...\n",
            "[nltk_data]   Package stopwords is already up-to-date!\n"
          ]
        }
      ]
    },
    {
      "cell_type": "code",
      "metadata": {
        "id": "vzD4sNxyotYX"
      },
      "source": [
        "# Load data\n",
        "\n",
        "data = pd.read_csv('https://otf.ca/sites/default/files/OTF-Grants_since2000.csv')"
      ],
      "execution_count": 38,
      "outputs": []
    },
    {
      "cell_type": "code",
      "metadata": {
        "id": "Pb5NXooPAmMV"
      },
      "source": [
        "#Set a new index\n",
        "\n",
        "data_index = pd.Series(range(27953)) \n",
        "data = data.set_index([data_index])"
      ],
      "execution_count": 39,
      "outputs": []
    },
    {
      "cell_type": "code",
      "metadata": {
        "id": "34r1xOMYo1y-"
      },
      "source": [
        "#Drop unnecessary columns\n",
        "\n",
        "data = data.drop(columns=['Funding Org:Org subventionnaire', 'Country Served:Pays servis', 'Province Served:Province servis', 'Cross-catchment indicator:Indicateur interrégional', 'Co-Application:Co-demandeurs', 'Description (French/Français)', 'Grant Result:Résultat de subvention','Rescinded/Recovered:Révoqué/récupéré','Rescinded/Recovered Initiated By:Révoqué/récupéré intié par','Amount Rescinded/Recovered:Montant révoqué/récupéré', 'Last modified:Mise à jour'])\n",
        "data.columns = ['fiscal_year','grant_program','geographical_area','identifier','org_name','submission_date', 'approval_date', 'amount_applied', 'amount_awarded', 'planned_duration', 'description', 'program_area', 'budget_fund', 'org_incorporation_num', 'org_charitable_reg_num', 'org_city', 'org_postcode', 'population_served', 'age_group']\n",
        "description = pd.DataFrame(data, columns = ['description'])"
      ],
      "execution_count": 40,
      "outputs": []
    },
    {
      "cell_type": "markdown",
      "metadata": {
        "id": "YrFa1ML24eSP"
      },
      "source": [
        "#Descriptives - Grant Program Frequency Distribution"
      ]
    },
    {
      "cell_type": "code",
      "metadata": {
        "colab": {
          "base_uri": "https://localhost:8080/",
          "height": 358
        },
        "id": "T6vZo8m8YYUi",
        "outputId": "1db58aa1-3ac9-4839-e6c8-eecd0c59b4b2"
      },
      "source": [
        "#Examining the data - Grant Program Frequency Distribution\n",
        "\n",
        "grant_program_count = data['grant_program'].value_counts()\n",
        "sns.set(style=\"darkgrid\")\n",
        "sns.barplot(grant_program_count.values, grant_program_count.index, alpha=0.9)\n",
        "plt.title('Frequency Distribution of grant_program')\n",
        "plt.ylabel('grant_program', fontsize=12)\n",
        "plt.xlabel('Number of Occurrences', fontsize=12)\n",
        "plt.show()"
      ],
      "execution_count": 181,
      "outputs": [
        {
          "output_type": "stream",
          "name": "stderr",
          "text": [
            "/usr/local/lib/python3.7/dist-packages/seaborn/_decorators.py:43: FutureWarning: Pass the following variables as keyword args: x, y. From version 0.12, the only valid positional argument will be `data`, and passing other arguments without an explicit keyword will result in an error or misinterpretation.\n",
            "  FutureWarning\n"
          ]
        },
        {
          "output_type": "display_data",
          "data": {
            "image/png": "[encoded data removed]",
            "text/plain": [
              "<Figure size 432x288 with 1 Axes>"
            ]
          },
          "metadata": {}
        }
      ]
    },
    {
      "cell_type": "markdown",
      "metadata": {
        "id": "x42_htkE3Zq7"
      },
      "source": [
        "#Data Cleaning"
      ]
    },
    {
      "cell_type": "code",
      "metadata": {
        "id": "NVhLnsOZpJib"
      },
      "source": [
        "# Preprocessing text - Project description - using regx. Remove structured text and keep only free-form text\n",
        "\n",
        "a = description['description'].str.split('programs for Ontarians by ').str[1].dropna()\n",
        "b = description['description'].str.split('grant over \\d+ years to ').str[1].dropna()\n",
        "c = description['description'].str.split('rebuild and recover from impacts of COVID-19 by ').str[1].dropna()\n",
        "d = description['description'].str.split('grant over \\d+ months to ').str[1].dropna()\n",
        "e = description['description'].str.split('\\$\\d+( \\w+|[\\d,]+) over \\d+ months to ').str[2].dropna()\n",
        "f = description['description'].str.split('\\$\\d+( \\w+|[\\d,]+) over one year to ').str[2].dropna()\n",
        "g = description['description'].str.split('\\$\\d+( \\w+|[\\d,]+) over two years to ').str[2].dropna()\n",
        "h = description['description'].str.split('\\$\\d+( \\w+|[\\d,]+) over three years to ').str[2].dropna()\n",
        "i = description['description'].str.split('\\$\\d+( \\w+|[\\d,]+) over six months to ').str[2].dropna()\n",
        "j = description['description'].str.split('This project aims to ').str[1].dropna()"
      ],
      "execution_count": 41,
      "outputs": []
    },
    {
      "cell_type": "code",
      "metadata": {
        "id": "OQ4kdefxpcMh"
      },
      "source": [
        "description_clean = pd.concat([a, b, c, d, e, f, g, h, i, j], axis=0,ignore_index=False)\n",
        "description_clean = description_clean.to_frame()\n",
        "\n",
        "add_indices = pd.Index(range(27952)).difference(description_clean.index)\n",
        "add_df = pd.DataFrame(index=add_indices, columns=description_clean.columns).fillna(description)\n",
        "description_clean = pd.concat([description_clean, add_df])"
      ],
      "execution_count": 42,
      "outputs": []
    },
    {
      "cell_type": "code",
      "metadata": {
        "id": "gOptKTqPV-WE"
      },
      "source": [
        "# Apply lemmatization to reduce redundancy (takes about 2min)\n",
        "recompute = False\n",
        "\n",
        "if recompute:\n",
        "    lemmatizer = WordNetLemmatizer()\n",
        "        # get_wordnet_pos from Selva Prabhakaran @ Machine Learning Plus\n",
        "        # https://www.machinelearningplus.com/nlp/lemmatization-examples-python/\n",
        "    def get_wordnet_pos(word):\n",
        "            \"\"\"Map POS tag to first character lemmatize() accepts\"\"\"\n",
        "            tag = nltk.pos_tag([word])[0][1][0].upper()\n",
        "            tag_dict = {\"J\": wordnet.ADJ,\n",
        "                    \"N\": wordnet.NOUN,\n",
        "                    \"V\": wordnet.VERB,\n",
        "                    \"R\": wordnet.ADV}\n",
        "            return tag_dict.get(tag, wordnet.NOUN)\n",
        "\n",
        "    descriptions = []\n",
        "    for i in description_clean['description']:\n",
        "          descriptions.append(' '.join([lemmatizer.lemmatize(w, get_wordnet_pos(w)) for w in nltk.word_tokenize(i.lower())]))\n",
        "\n",
        "    descriptions=pd.DataFrame(descriptions, columns=['description'])\n",
        "\n",
        "    def clean_text (df):\n",
        "        description_C = list()\n",
        "        lines = descriptions[\"description\"].values.tolist()\n",
        "        for text in lines:\n",
        "            text = text.lower()\n",
        "            text = re.sub(r\"i'm\", \"i am\", text)\n",
        "            text = re.sub(r\"he's\", \"he is\", text)\n",
        "            text = re.sub(r\"she's\", \"she is\", text)\n",
        "            text = re.sub(r\"that's\", \"that is\", text)        \n",
        "            text = re.sub(r\"what's\", \"what is\", text)\n",
        "            text = re.sub(r\"where's\", \"where is\", text) \n",
        "            text = re.sub(r\"\\'ll\", \" will\", text)  \n",
        "            text = re.sub(r\"\\'ve\", \" have\", text)  \n",
        "            text = re.sub(r\"\\'re\", \" are\", text)\n",
        "            text = re.sub(r\"\\'d\", \" would\", text)\n",
        "            text = re.sub(r\"\\'ve\", \" have\", text)\n",
        "            text = re.sub(r\"won't\", \"will not\", text)\n",
        "            text = re.sub(r\"don't\", \"do not\", text)\n",
        "            text = re.sub(r\"did't\", \"did not\", text)\n",
        "            text = re.sub(r\"can't\", \"can not\", text)\n",
        "            text = re.sub(r\"it's\", \"it is\", text)\n",
        "            text = re.sub(r\"couldn't\", \"could not\", text)\n",
        "            text = re.sub(r\"have't\", \"have not\", text)\n",
        "            text = re.sub(r\"[,.\\\"!@#$%^&*(){}?/;`~:<>+=-]\", \"\", text)\n",
        "            tokens = word_tokenize(text)\n",
        "            table = str.maketrans('', '', string.punctuation)\n",
        "            stripped = [w.translate(table) for w in tokens]\n",
        "            words = [word for word in stripped if word.isalpha()]\n",
        "            stop_words = set(stopwords.words(\"english\"))\n",
        "            stop_words.discard(\"not\")\n",
        "            words = [w for w in words if not w in stop_words]\n",
        "            words = ' '.join(words)\n",
        "            description_C.append(words)\n",
        "        return description_C\n",
        "\n",
        "    description_C = clean_text(descriptions)\n",
        "    descriptions[\"description\"] = description_C\n",
        "    pd.DataFrame(descriptions).to_csv('descriptions.csv')\n",
        "else:\n",
        "    descriptions = pd.read_csv('descriptions.csv')"
      ],
      "execution_count": 46,
      "outputs": []
    },
    {
      "cell_type": "markdown",
      "metadata": {
        "id": "LLJ5S3HT3UJW"
      },
      "source": [
        "#Word Cloud"
      ]
    },
    {
      "cell_type": "code",
      "metadata": {
        "colab": {
          "base_uri": "https://localhost:8080/",
          "height": 374
        },
        "id": "bv4QNZlSWid5",
        "outputId": "18e79eae-b23a-4cb7-b5ad-973ffc797604"
      },
      "source": [
        "#Visualizing most frequently used words in project descriptions\n",
        "stop_words = set(stopwords.words('english'))\n",
        "wc = WordCloud(scale=2, background_color=\"white\", max_words = 50, stopwords = stop_words)\n",
        "wc.generate(' '.join(descriptions[\"description\"].tolist()))\n",
        "plt.figure(figsize=(10,7))\n",
        "plt.title(\"Top 50 frequent words in Description\",fontsize=30)\n",
        "plt.xlabel(\"\")\n",
        "plt.ylabel(\"\")\n",
        "plt.imshow(wc,interpolation='bilinear')"
      ],
      "execution_count": 50,
      "outputs": [
        {
          "output_type": "execute_result",
          "data": {
            "text/plain": [
              "<matplotlib.image.AxesImage at 0x7fbac7c8bd90>"
            ]
          },
          "metadata": {},
          "execution_count": 50
        },
        {
          "output_type": "display_data",
          "data": {
            "image/png": "[encoded data removed]",
            "text/plain": [
              "<Figure size 720x504 with 1 Axes>"
            ]
          },
          "metadata": {
            "needs_background": "light"
          }
        }
      ]
    },
    {
      "cell_type": "markdown",
      "metadata": {
        "id": "CQVqwA8t45Yr"
      },
      "source": [
        "#Feature Extractions"
      ]
    },
    {
      "cell_type": "code",
      "metadata": {
        "colab": {
          "base_uri": "https://localhost:8080/",
          "height": 0
        },
        "id": "VcZuEir2vjnA",
        "outputId": "27263e31-5546-4458-8649-46fe4e292c6c"
      },
      "source": [
        "stop_noun = ['ontario', 'year', 'month','toronto','use','ottawa','people'] # Removing stopwords unique to this data\n",
        "stop_words_full = text.ENGLISH_STOP_WORDS.union(stop_noun)\n",
        "descriptions.columns = ['description']\n",
        "vectorizer = TfidfVectorizer(ngram_range=(1,1), max_features = 100, stop_words = stop_words_full) # Extracting features\n",
        "counts_sparse = vectorizer.fit_transform(descriptions['description'])\n",
        "Extracted_Features = pd.DataFrame(counts_sparse.toarray(), index=description_clean.index, columns=vectorizer.get_feature_names())\n",
        "Extracted_Features = Extracted_Features.drop(Extracted_Features.columns[0:11], axis=1) \n",
        "Extracted_Features_index = pd.Series(range(27953)) # Establishing index\n",
        "Extracted_Features = Extracted_Features.set_index([Extracted_Features_index])\n",
        "\n",
        "#Merging Grant Program column with extracted features\n",
        "Grant_program = pd.DataFrame (data, columns = ['grant_program'])\n",
        "Grant_program =pd.concat([Grant_program, Extracted_Features], axis=1)"
      ],
      "execution_count": 55,
      "outputs": [
        {
          "output_type": "stream",
          "name": "stderr",
          "text": [
            "/usr/local/lib/python3.7/dist-packages/sklearn/utils/deprecation.py:87: FutureWarning: Function get_feature_names is deprecated; get_feature_names is deprecated in 1.0 and will be removed in 1.2. Please use get_feature_names_out instead.\n",
            "  warnings.warn(msg, category=FutureWarning)\n"
          ]
        }
      ]
    },
    {
      "cell_type": "markdown",
      "metadata": {
        "id": "weAWoYR24tiB"
      },
      "source": [
        "#Model Predictions"
      ]
    },
    {
      "cell_type": "markdown",
      "metadata": {
        "id": "NU0dtILqsLPb"
      },
      "source": [
        "## Classifier: Naive Bayes"
      ]
    },
    {
      "cell_type": "code",
      "metadata": {
        "colab": {
          "base_uri": "https://localhost:8080/",
          "height": 0
        },
        "id": "dhXs-G6eVchu",
        "outputId": "5eb3ba79-61dd-4c1e-b019-cccac36a1658"
      },
      "source": [
        "#Building a model\n",
        "#Random Training Sample approx 80% of data\n",
        "#Random_state=1 to maintain order\n",
        "X1 = Grant_program.sample(22361, random_state=1) \n",
        "testing1 = Grant_program.drop(X1.index)\n",
        "\n",
        "y1 = X1['grant_program']\n",
        "y1.to_numpy(dtype=None, copy=False)\n",
        "\n",
        "X1=X1.drop(['grant_program'], axis=1)\n",
        "X1.to_numpy(dtype=None, copy=False)\n",
        "\n",
        "t1_y = testing1['grant_program']\n",
        "t1_y.to_numpy(dtype=None, copy=False)\n",
        "\n",
        "t1_x=testing1.drop(['grant_program'], axis=1)\n",
        "t1_x.to_numpy(dtype=None, copy=False)\n",
        "\n",
        "\n",
        "#StratifiedKFold to preserve the percentage of samples for each class\n",
        "k_fold = StratifiedKFold(n_splits=10, shuffle=True, random_state=1)\n",
        "X1_train, X1_validation, y1_train, y1_validation = train_test_split(X1, y1, test_size=0.20, shuffle= True, stratify= y1, random_state= 1)\n",
        "\n",
        "# Baseline classifier using stratified\n",
        "classifierNB = DummyClassifier(strategy='stratified') #stratified used due to uneven classes\n",
        "classifierNB.fit(X1_train, y1_train)\n",
        "\n",
        "# Baseline accuracy\n",
        "pred_baselineNB = classifierNB.predict(X1_validation)\n",
        "baseline_accuracyNB = accuracy_score(y1_validation, pred_baselineNB)\n",
        "pd.Series(baseline_accuracyNB) \n",
        "\n",
        "#Training Model\n",
        "model_NB = MultinomialNB()\n",
        "model_NB.fit(X1_train, y1_train)\n",
        "print('Model_NB is trained on {} data points'.format(X1_train.shape[0]))\n",
        "\n",
        "#Validation Model\n",
        "print('Model_NB is validated on {} data points'.format(X1_validation.shape[0]))\n",
        "ValidationNB = model_NB.predict(X1_validation)\n",
        "estNB_accuracy = accuracy_score(y1_validation, ValidationNB)\n",
        "\n",
        "#Testing Model\n",
        "PredictionNB = model_NB.predict(t1_x)\n",
        "testNB_accuracy = accuracy_score(t1_y, PredictionNB)\n",
        "\n",
        "print('Baseline accuracy(NB) score is', baseline_accuracyNB)\n",
        "print('Estimated NB accuracy is', estNB_accuracy) #Validation accuracy\n",
        "print('Test NB accuracy is', testNB_accuracy) \n"
      ],
      "execution_count": 56,
      "outputs": [
        {
          "output_type": "stream",
          "name": "stdout",
          "text": [
            "Model_NB is trained on 17888 data points\n",
            "Model_NB is validated on 4473 data points\n",
            "Baseline accuracy(NB) score is 0.8808405991504583\n",
            "Estimated NB accuracy is 0.9369550637156271\n",
            "Test NB accuracy is 0.9391988555078684\n"
          ]
        }
      ]
    },
    {
      "cell_type": "markdown",
      "metadata": {
        "id": "Ytw6QRFysHn4"
      },
      "source": [
        "## Classifier: Random Forest"
      ]
    },
    {
      "cell_type": "markdown",
      "source": [
        "###Random Forest with customized parameters"
      ],
      "metadata": {
        "id": "_92AG_Bnehdy"
      }
    },
    {
      "cell_type": "code",
      "source": [
        "#Random Forest with customized paramenters\n",
        "#Building a model\n",
        "#Random Training Sample approx 80% of data\n",
        "#Random_state=1 to maintain order\n",
        "X = Grant_program.sample(22361, random_state=1) \n",
        "testing = Grant_program.drop(X.index)\n",
        "\n",
        "y = X['grant_program']\n",
        "y.to_numpy(dtype=None, copy=False)\n",
        "\n",
        "X=X.drop(['grant_program'], axis=1)\n",
        "X.to_numpy(dtype=None, copy=False)\n",
        "\n",
        "t_y = testing['grant_program']\n",
        "t_y.to_numpy(dtype=None, copy=False)\n",
        "\n",
        "t_x=testing.drop(['grant_program'], axis=1)\n",
        "t_x.to_numpy(dtype=None, copy=False)\n",
        "\n",
        "\n",
        "#StratifiedKFold to preserve the percentage of samples for each class\n",
        "k_fold = StratifiedKFold(n_splits=10, shuffle=True, random_state=1)\n",
        "X_train, X_validation, y_train, y_validation = train_test_split(X, y, test_size=0.20, shuffle= True, stratify= y, random_state= 1)\n",
        "\n",
        "# Baseline classifier using stratified\n",
        "classifier = DummyClassifier(strategy='stratified') #stratified used due to uneven classes\n",
        "classifier.fit(X_train, y_train)\n",
        "\n",
        "# Baseline accuracy\n",
        "pred_baseline = classifier.predict(X_validation)\n",
        "baseline_accuracy = accuracy_score(y_validation, pred_baseline)\n",
        "pd.Series(baseline_accuracy) \n",
        "\n",
        "\n",
        "#Training Model\n",
        "feature_scaler = StandardScaler() #Standardize features by removing the mean and scaling to unit variance\n",
        "X_train_rf = feature_scaler.fit_transform(X_train) #Fit to data, then transform it.\n",
        "X_validation_rf = feature_scaler.transform(X_validation)\n",
        "\n",
        "param_grid = { \n",
        "        'n_estimators': [200],\n",
        "    'max_features': ['auto'],\n",
        "    'max_depth' : [15],\n",
        "    'criterion' :[ 'entropy'], #information gain\n",
        "    'min_samples_leaf': [1]\n",
        "}\n",
        "\n",
        "rf_clfs = RandomForestClassifier(random_state=1)\n",
        "rf_clf = GridSearchCV(estimator=rf_clfs, param_grid=param_grid, cv=k_fold,scoring='f1_micro')\n",
        "rf_clf.fit(X_train_rf,y_train)\n",
        "\n",
        "print('Model is trained on {} data points'.format(X_train.shape[0]))\n",
        "\n",
        "#Validation Model\n",
        "print('Model is validated on {} data points'.format(X_validation.shape[0]))\n",
        "best_model = rf_clf.best_estimator_\n",
        "pred = rf_clf.predict(X_validation_rf)\n",
        "#print('Random Forest F1 on X_test:',f1_score(y_validation, pred, average='micro')*100)\n",
        "\n",
        "#Testing Model\n",
        "print('Model is tested on {} data points'.format(t_x.shape[0]))\n",
        "Prediction = rf_clf.predict(t_x)\n",
        "#test_accuracy = f1_score(t_y,  Prediction, average='micro')*100\n",
        "\n",
        "print('Baseline accuracy(RF) score is', baseline_accuracy)\n",
        "print('Estimated RF accuracy (validation model) is', f1_score(y_validation, pred, average='micro')*100) \n",
        "print('Test RF accuracy is', f1_score(t_y, Prediction, average='micro')*100)"
      ],
      "metadata": {
        "colab": {
          "base_uri": "https://localhost:8080/"
        },
        "id": "ACp4y_a7OlUh",
        "outputId": "055735fe-dd17-42b6-ec36-9ee1cefd9fca"
      },
      "execution_count": 210,
      "outputs": [
        {
          "output_type": "stream",
          "name": "stdout",
          "text": [
            "Model is trained on 17888 data points\n",
            "Model is validated on 4473 data points\n",
            "Model is tested on 5592 data points\n"
          ]
        },
        {
          "output_type": "stream",
          "name": "stderr",
          "text": [
            "/usr/local/lib/python3.7/dist-packages/sklearn/base.py:439: UserWarning: X has feature names, but RandomForestClassifier was fitted without feature names\n",
            "  f\"X has feature names, but {self.__class__.__name__} was fitted without\"\n"
          ]
        },
        {
          "output_type": "stream",
          "name": "stdout",
          "text": [
            "Baseline accuracy(RF) score is 0.8759221998658618\n",
            "Estimated RF accuracy (validation model) is 94.94746255309636\n",
            "Test RF accuracy is 93.72317596566523\n"
          ]
        }
      ]
    },
    {
      "cell_type": "markdown",
      "source": [
        "###Random Forest with default parameters"
      ],
      "metadata": {
        "id": "3VoEciScebk1"
      }
    },
    {
      "cell_type": "code",
      "source": [
        "#Random Forest with default parameters\n",
        "#Building a model\n",
        "#Random Training Sample approx 80% of data\n",
        "#Random_state=1 to maintain order\n",
        "X = Grant_program.sample(22361, random_state=1) \n",
        "testing = Grant_program.drop(X.index)\n",
        "\n",
        "y = X['grant_program']\n",
        "y.to_numpy(dtype=None, copy=False)\n",
        "\n",
        "X=X.drop(['grant_program'], axis=1)\n",
        "X.to_numpy(dtype=None, copy=False)\n",
        "\n",
        "t_y = testing['grant_program']\n",
        "t_y.to_numpy(dtype=None, copy=False)\n",
        "\n",
        "t_x=testing.drop(['grant_program'], axis=1)\n",
        "t_x.to_numpy(dtype=None, copy=False)\n",
        "\n",
        "\n",
        "#StratifiedKFold to preserve the percentage of samples for each class\n",
        "k_fold = StratifiedKFold(n_splits=10, shuffle=True, random_state=1)\n",
        "X_train, X_validation, y_train, y_validation = train_test_split(X, y, test_size=0.20, shuffle= True, stratify= y, random_state= 1)\n",
        "\n",
        "# Baseline classifier using stratified\n",
        "classifier = DummyClassifier(strategy='stratified')\n",
        "classifier.fit(X_train, y_train)\n",
        "\n",
        "# Baseline accuracy\n",
        "pred_baseline = classifier.predict(X_validation)\n",
        "baseline_accuracy = accuracy_score(y_validation, pred_baseline)\n",
        "pd.Series(baseline_accuracy) \n",
        "\n",
        "#Training Model\n",
        "model = RandomForestClassifier(random_state=1)\n",
        "model.fit(X_train, y_train)\n",
        "print('Model is trained on {} data points'.format(X_train.shape[0]))\n",
        "\n",
        "#Validation Model\n",
        "print('Model is validated on {} data points'.format(X_validation.shape[0]))\n",
        "Validation = model.predict(X_validation)\n",
        "est_accuracy = accuracy_score(y_validation, Validation)\n",
        "\n",
        "\n",
        "#Testing Model\n",
        "print('Model is tested on {} data points'.format(t_x.shape[0]))\n",
        "Prediction = model.predict(t_x)\n",
        "test_accuracy = accuracy_score(t_y, Prediction)\n",
        "\n",
        "print('Baseline accuracy(RF) score is', baseline_accuracy)\n",
        "print('Estimated RF accuracy (validation model) is', est_accuracy) #Validation accuracy\n",
        "print('Test RF accuracy is', test_accuracy) \n",
        "\n",
        "#Random Forest outperformed MultinomialNB therefore the RF classifier was used in the final model. \n",
        "#Default RFparameters outperformed customized parameters and were retained for the final model"
      ],
      "metadata": {
        "colab": {
          "base_uri": "https://localhost:8080/",
          "height": 0
        },
        "id": "Getymp-eE_d9",
        "outputId": "414360b7-d4a8-4067-cd08-68858a59987e"
      },
      "execution_count": 62,
      "outputs": [
        {
          "output_type": "stream",
          "name": "stdout",
          "text": [
            "Model is trained on 17888 data points\n",
            "Model is validated on 4473 data points\n",
            "Model is tested on 5592 data points\n",
            "Baseline accuracy(RF) score is 0.8750279454504807\n",
            "Estimated RF accuracy (validation model) is 0.9488039347194277\n",
            "Test RF accuracy is 0.9508226037195995\n"
          ]
        }
      ]
    },
    {
      "cell_type": "code",
      "metadata": {
        "colab": {
          "base_uri": "https://localhost:8080/",
          "height": 655
        },
        "id": "_eoKfSytv3iL",
        "outputId": "d749f49f-33bd-415d-9401-53e170e6252c"
      },
      "source": [
        "\n",
        "#Visualizing the Validation RF Model's Performance\n",
        "\n",
        "cnf_matrixRF = metrics.confusion_matrix(t_y, Prediction)\n",
        "print(cnf_matrixRF)\n",
        "print(classification_report(t_y, Prediction))\n",
        "fig, ax = plt.subplots()\n",
        "sns.heatmap(pd.DataFrame(cnf_matrixRF), annot=True, cmap=\"YlGnBu\" ,fmt='g')\n",
        "plt.tight_layout()\n",
        "plt.title('Confusion matrix')    \n",
        "plt.ylabel('grant_program')\n",
        "plt.xlabel('Predicted score')\n"
      ],
      "execution_count": 63,
      "outputs": [
        {
          "output_type": "stream",
          "name": "stdout",
          "text": [
            "[[  66   47    0    7    0]\n",
            " [  11 5216    9    3    2]\n",
            " [   0   45    2    0    0]\n",
            " [   7   80    0   33    0]\n",
            " [   0   64    0    0    0]]\n",
            "                            precision    recall  f1-score   support\n",
            "\n",
            "   Community Building Fund       0.79      0.55      0.65       120\n",
            "     Community Investments       0.96      1.00      0.98      5241\n",
            "            Other Programs       0.18      0.04      0.07        47\n",
            "Resilient Communities Fund       0.77      0.28      0.40       120\n",
            "  Youth Opportunities Fund       0.00      0.00      0.00        64\n",
            "\n",
            "                  accuracy                           0.95      5592\n",
            "                 macro avg       0.54      0.37      0.42      5592\n",
            "              weighted avg       0.93      0.95      0.94      5592\n",
            "\n"
          ]
        },
        {
          "output_type": "execute_result",
          "data": {
            "text/plain": [
              "Text(0.5, 15.0, 'Predicted score')"
            ]
          },
          "metadata": {},
          "execution_count": 63
        },
        {
          "output_type": "display_data",
          "data": {
            "image/png": "[encoded data removed]",
            "text/plain": [
              "<Figure size 432x288 with 2 Axes>"
            ]
          },
          "metadata": {
            "needs_background": "light"
          }
        }
      ]
    },
    {
      "cell_type": "markdown",
      "metadata": {
        "id": "HJyg77JU5pF9"
      },
      "source": [
        "#K means cluster"
      ]
    },
    {
      "cell_type": "markdown",
      "source": [
        "###Range 2-20"
      ],
      "metadata": {
        "id": "hYPZo0AXcFJf"
      }
    },
    {
      "cell_type": "code",
      "source": [
        "# Scale Extracted_Features from 0 to 1\n",
        "Extracted_Features_scaled =  (Extracted_Features - Extracted_Features.min()) / (Extracted_Features.max() - Extracted_Features.min())\n",
        "\n",
        "# Plot the silhouette\n",
        "\n",
        "silhouette_list = []\n",
        "for k in range(2,20): #range chosen to match current 5 grant categories\n",
        "    model1 = KMeans(n_clusters=k)\n",
        "    model1.fit(Extracted_Features_scaled)\n",
        "    cluster_id = pd.Series(model1.predict(Extracted_Features_scaled))\n",
        "    \n",
        "    # The two following lines are equivalent\n",
        "    silhouette1 = silhouette_score(Extracted_Features_scaled, cluster_id)\n",
        "    #silhouette = silhouette_samples(counts_r_scaled, cluster_id).mean()\n",
        "    \n",
        "    silhouette_list.append({'k':k, 'silhouette_score':silhouette_score(Extracted_Features_scaled, cluster_id), 'label':cluster_id})\n",
        "\n",
        "\n",
        "# Select best labels (based on silhouette score)\n",
        "silhouette_list1=pd.DataFrame(silhouette_list)\n",
        "best_label1 = silhouette_list1.loc[silhouette_list1['silhouette_score'].idxmax(),'label']\n",
        "best_label1\n",
        "\n",
        "\n",
        "ax = pd.DataFrame(silhouette_list).set_index('k').plot.line()\n",
        "ax.set_ylabel('Silhouette Score')"
      ],
      "metadata": {
        "id": "AouLNF_BMXwX"
      },
      "execution_count": null,
      "outputs": []
    },
    {
      "cell_type": "code",
      "source": [
        "silhouette_list1=pd.DataFrame(silhouette_list)\n",
        "best_label1 = silhouette_list1.loc[silhouette_list1['silhouette_score'].idxmax(),'label']\n",
        "best_label1\n",
        "\n",
        "\n",
        "ax = pd.DataFrame(silhouette_list).set_index('k').plot.line()\n",
        "ax.set_ylabel('Silhouette Score')"
      ],
      "metadata": {
        "colab": {
          "base_uri": "https://localhost:8080/",
          "height": 303
        },
        "id": "7WuBJNtDPhjn",
        "outputId": "2495cd18-56e1-4e36-c762-23cfa5932d75"
      },
      "execution_count": 190,
      "outputs": [
        {
          "output_type": "execute_result",
          "data": {
            "text/plain": [
              "Text(0, 0.5, 'Silhouette Score')"
            ]
          },
          "metadata": {},
          "execution_count": 190
        },
        {
          "output_type": "display_data",
          "data": {
            "image/png": "[encoded data removed]",
            "text/plain": [
              "<Figure size 432x288 with 1 Axes>"
            ]
          },
          "metadata": {}
        }
      ]
    },
    {
      "cell_type": "markdown",
      "source": [
        "###Range 2-10"
      ],
      "metadata": {
        "id": "tb0z3CgWcOFr"
      }
    },
    {
      "cell_type": "code",
      "metadata": {
        "colab": {
          "base_uri": "https://localhost:8080/",
          "height": 300
        },
        "id": "ZgdVJgl5N1QL",
        "outputId": "1065851b-10a4-436c-8001-447bb0b76b4b"
      },
      "source": [
        "# Scale Extracted_Features from 0 to 1\n",
        "Extracted_Features_scaled =  (Extracted_Features - Extracted_Features.min()) / (Extracted_Features.max() - Extracted_Features.min())\n",
        "\n",
        "# Plot the silhouette\n",
        "\n",
        "silhouette_list = []\n",
        "for k in range(2,10): #range chosen to match current 5 grant categories\n",
        "    model = KMeans(n_clusters=k)\n",
        "    model.fit(Extracted_Features_scaled)\n",
        "    cluster_id = pd.Series(model.predict(Extracted_Features_scaled))\n",
        "    \n",
        "    # The two following lines are equivalent\n",
        "    silhouette = silhouette_score(Extracted_Features_scaled, cluster_id)\n",
        "    #silhouette = silhouette_samples(counts_r_scaled, cluster_id).mean()\n",
        "    \n",
        "    silhouette_list.append({'k':k, 'silhouette_score':silhouette_score(Extracted_Features_scaled, cluster_id), 'label':cluster_id})\n",
        "\n",
        "\n",
        "# Select best labels (based on silhouette score)\n",
        "silhouette_list=pd.DataFrame(silhouette_list)\n",
        "best_label = silhouette_list.loc[silhouette_list['silhouette_score'].idxmax(),'label']\n",
        "best_label\n",
        "\n",
        "\n",
        "ax = pd.DataFrame(silhouette_list).set_index('k').plot.line()\n",
        "ax.set_ylabel('Silhouette Score')"
      ],
      "execution_count": 64,
      "outputs": [
        {
          "output_type": "execute_result",
          "data": {
            "text/plain": [
              "Text(0, 0.5, 'Silhouette Score')"
            ]
          },
          "metadata": {},
          "execution_count": 64
        },
        {
          "output_type": "display_data",
          "data": {
            "image/png": "[encoded data removed]",
            "text/plain": [
              "<Figure size 432x288 with 1 Axes>"
            ]
          },
          "metadata": {
            "needs_background": "light"
          }
        }
      ]
    },
    {
      "cell_type": "markdown",
      "source": [
        "##Apply k"
      ],
      "metadata": {
        "id": "kZrjERfVLeJF"
      }
    },
    {
      "cell_type": "markdown",
      "source": [
        "####3 Clusters"
      ],
      "metadata": {
        "id": "vaFsKs-g8lCI"
      }
    },
    {
      "cell_type": "code",
      "source": [
        "#Use K means to cluster extracted features\n",
        "# Apply k\n",
        "recompute = False\n",
        "\n",
        "if recompute:\n",
        "    k_model3 = KMeans(n_clusters=3)\n",
        "    k_model3.fit(Extracted_Features_scaled)\n",
        "    cluster_assignment3 = k_model3.predict(Extracted_Features_scaled)\n",
        "    clusters3=Extracted_Features_scaled.groupby(cluster_assignment3).mean()\n",
        "    clusters3\n",
        "\n",
        "    clusters_index3 = pd.Series(range(3))\n",
        "    clusters3['clusters3']=clusters_index3\n",
        "\n",
        "    # convert the dataframes into a long format\n",
        "    clusters3.set_index(['clusters3'], inplace=True)\n",
        "    clusters3.columns.names = ['Features3']\n",
        "    weights = clusters3.stack().to_frame()\n",
        "    weights.columns = ['weights']\n",
        "    clusters3=weights\n",
        "\n",
        "    #reset index\n",
        "    clusters3 = clusters3.reset_index()\n",
        "\n",
        "    #sort data by clusters and weights\n",
        "    clusters3=clusters3.sort_values(by=['clusters3','weights'], ascending=[True,False])\n",
        "    clusters3.to_csv('clusters3.csv', index=False)\n",
        "    clusters3\n",
        "else:\n",
        "    clusters3 = pd.read_csv('clusters3.csv')\n"
      ],
      "metadata": {
        "id": "eVV6sUQx8i_1"
      },
      "execution_count": null,
      "outputs": []
    },
    {
      "cell_type": "code",
      "source": [
        "clusters3_top5 = clusters3.groupby([\"clusters3\"]).apply(lambda x: x.sort_values([\"weights\"], ascending = False)).reset_index(drop=True)\n",
        "clusters3_top5=clusters3_top5.groupby('clusters3').head(5)\n",
        "clusters3_top5"
      ],
      "metadata": {
        "colab": {
          "base_uri": "https://localhost:8080/",
          "height": 520
        },
        "outputId": "d6d9f954-0b35-41c7-bc2d-d9063fa9376d",
        "id": "pzTjH1fZ8i_1"
      },
      "execution_count": null,
      "outputs": [
        {
          "output_type": "execute_result",
          "data": {
            "text/html": [
              "<div>\n",
              "<style scoped>\n",
              "    .dataframe tbody tr th:only-of-type {\n",
              "        vertical-align: middle;\n",
              "    }\n",
              "\n",
              "    .dataframe tbody tr th {\n",
              "        vertical-align: top;\n",
              "    }\n",
              "\n",
              "    .dataframe thead th {\n",
              "        text-align: right;\n",
              "    }\n",
              "</style>\n",
              "<table border=\"1\" class=\"dataframe\">\n",
              "  <thead>\n",
              "    <tr style=\"text-align: right;\">\n",
              "      <th></th>\n",
              "      <th>clusters3</th>\n",
              "      <th>Features3</th>\n",
              "      <th>weights</th>\n",
              "    </tr>\n",
              "  </thead>\n",
              "  <tbody>\n",
              "    <tr>\n",
              "      <th>0</th>\n",
              "      <td>0</td>\n",
              "      <td>purchase</td>\n",
              "      <td>0.243507</td>\n",
              "    </tr>\n",
              "    <tr>\n",
              "      <th>1</th>\n",
              "      <td>0</td>\n",
              "      <td>equipment</td>\n",
              "      <td>0.237677</td>\n",
              "    </tr>\n",
              "    <tr>\n",
              "      <th>2</th>\n",
              "      <td>0</td>\n",
              "      <td>new</td>\n",
              "      <td>0.087048</td>\n",
              "    </tr>\n",
              "    <tr>\n",
              "      <th>3</th>\n",
              "      <td>0</td>\n",
              "      <td>program</td>\n",
              "      <td>0.060218</td>\n",
              "    </tr>\n",
              "    <tr>\n",
              "      <th>4</th>\n",
              "      <td>0</td>\n",
              "      <td>community</td>\n",
              "      <td>0.060210</td>\n",
              "    </tr>\n",
              "    <tr>\n",
              "      <th>89</th>\n",
              "      <td>1</td>\n",
              "      <td>life</td>\n",
              "      <td>0.272538</td>\n",
              "    </tr>\n",
              "    <tr>\n",
              "      <th>90</th>\n",
              "      <td>1</td>\n",
              "      <td>community</td>\n",
              "      <td>0.244174</td>\n",
              "    </tr>\n",
              "    <tr>\n",
              "      <th>91</th>\n",
              "      <td>1</td>\n",
              "      <td>impact</td>\n",
              "      <td>0.230109</td>\n",
              "    </tr>\n",
              "    <tr>\n",
              "      <th>92</th>\n",
              "      <td>1</td>\n",
              "      <td>initiative</td>\n",
              "      <td>0.229714</td>\n",
              "    </tr>\n",
              "    <tr>\n",
              "      <th>93</th>\n",
              "      <td>1</td>\n",
              "      <td>help</td>\n",
              "      <td>0.200298</td>\n",
              "    </tr>\n",
              "    <tr>\n",
              "      <th>178</th>\n",
              "      <td>2</td>\n",
              "      <td>program</td>\n",
              "      <td>0.085779</td>\n",
              "    </tr>\n",
              "    <tr>\n",
              "      <th>179</th>\n",
              "      <td>2</td>\n",
              "      <td>community</td>\n",
              "      <td>0.080490</td>\n",
              "    </tr>\n",
              "    <tr>\n",
              "      <th>180</th>\n",
              "      <td>2</td>\n",
              "      <td>support</td>\n",
              "      <td>0.071286</td>\n",
              "    </tr>\n",
              "    <tr>\n",
              "      <th>181</th>\n",
              "      <td>2</td>\n",
              "      <td>provide</td>\n",
              "      <td>0.059068</td>\n",
              "    </tr>\n",
              "    <tr>\n",
              "      <th>182</th>\n",
              "      <td>2</td>\n",
              "      <td>increase</td>\n",
              "      <td>0.058663</td>\n",
              "    </tr>\n",
              "  </tbody>\n",
              "</table>\n",
              "</div>"
            ],
            "text/plain": [
              "     clusters3   Features3   weights\n",
              "0            0    purchase  0.243507\n",
              "1            0   equipment  0.237677\n",
              "2            0         new  0.087048\n",
              "3            0     program  0.060218\n",
              "4            0   community  0.060210\n",
              "89           1        life  0.272538\n",
              "90           1   community  0.244174\n",
              "91           1      impact  0.230109\n",
              "92           1  initiative  0.229714\n",
              "93           1        help  0.200298\n",
              "178          2     program  0.085779\n",
              "179          2   community  0.080490\n",
              "180          2     support  0.071286\n",
              "181          2     provide  0.059068\n",
              "182          2    increase  0.058663"
            ]
          },
          "metadata": {},
          "execution_count": 157
        }
      ]
    },
    {
      "cell_type": "markdown",
      "source": [
        "###4 Clusters"
      ],
      "metadata": {
        "id": "GMgsZLwe8qPu"
      }
    },
    {
      "cell_type": "code",
      "source": [
        "#Use K means to cluster extracted features\n",
        "# Apply k\n",
        "recompute = False\n",
        "\n",
        "if recompute:\n",
        "    k_model4 = KMeans(n_clusters=4)\n",
        "    k_model4.fit(Extracted_Features_scaled)\n",
        "    cluster_assignment4 = k_model4.predict(Extracted_Features_scaled)\n",
        "    clusters4=Extracted_Features_scaled.groupby(cluster_assignment4).mean()\n",
        "    clusters4\n",
        "\n",
        "    clusters_index4 = pd.Series(range(4))\n",
        "    clusters4['clusters4']=clusters_index4\n",
        "\n",
        "    # convert the dataframes into a long format\n",
        "    clusters4.set_index(['clusters4'], inplace=True)\n",
        "    clusters4.columns.names = ['Features4']\n",
        "    weights = clusters4.stack().to_frame()\n",
        "    weights.columns = ['weights']\n",
        "    clusters4=weights\n",
        "\n",
        "    #reset index\n",
        "    clusters4 = clusters4.reset_index()\n",
        "\n",
        "    #sort data by clusters and weights\n",
        "    clusters4=clusters4.sort_values(by=['clusters4','weights'], ascending=[True,False])\n",
        "    clusters4.to_csv('clusters4.csv', index=False)\n",
        "    clusters4\n",
        "else:\n",
        "    clusters4 = pd.read_csv('clusters4.csv')"
      ],
      "metadata": {
        "id": "i15J9QDyGdES"
      },
      "execution_count": 159,
      "outputs": []
    },
    {
      "cell_type": "code",
      "source": [
        "clusters4_top5 = clusters4.groupby([\"clusters4\"]).apply(lambda x: x.sort_values([\"weights\"], ascending = False)).reset_index(drop=True)\n",
        "clusters4_top5=clusters4_top5.groupby('clusters4').head(5)\n",
        "clusters4_top5.to_csv('clusters4_top5.csv', index=False)\n",
        "clusters4_top5"
      ],
      "metadata": {
        "colab": {
          "base_uri": "https://localhost:8080/",
          "height": 676
        },
        "id": "YLT9_PDdLVtr",
        "outputId": "788ffb36-5046-490b-e180-55b6e550c33f"
      },
      "execution_count": 211,
      "outputs": [
        {
          "output_type": "execute_result",
          "data": {
            "text/html": [
              "<div>\n",
              "<style scoped>\n",
              "    .dataframe tbody tr th:only-of-type {\n",
              "        vertical-align: middle;\n",
              "    }\n",
              "\n",
              "    .dataframe tbody tr th {\n",
              "        vertical-align: top;\n",
              "    }\n",
              "\n",
              "    .dataframe thead th {\n",
              "        text-align: right;\n",
              "    }\n",
              "</style>\n",
              "<table border=\"1\" class=\"dataframe\">\n",
              "  <thead>\n",
              "    <tr style=\"text-align: right;\">\n",
              "      <th></th>\n",
              "      <th>clusters4</th>\n",
              "      <th>Features4</th>\n",
              "      <th>weights</th>\n",
              "    </tr>\n",
              "  </thead>\n",
              "  <tbody>\n",
              "    <tr>\n",
              "      <th>0</th>\n",
              "      <td>0</td>\n",
              "      <td>youth</td>\n",
              "      <td>0.314619</td>\n",
              "    </tr>\n",
              "    <tr>\n",
              "      <th>1</th>\n",
              "      <td>0</td>\n",
              "      <td>child</td>\n",
              "      <td>0.179911</td>\n",
              "    </tr>\n",
              "    <tr>\n",
              "      <th>2</th>\n",
              "      <td>0</td>\n",
              "      <td>program</td>\n",
              "      <td>0.141776</td>\n",
              "    </tr>\n",
              "    <tr>\n",
              "      <th>3</th>\n",
              "      <td>0</td>\n",
              "      <td>support</td>\n",
              "      <td>0.093815</td>\n",
              "    </tr>\n",
              "    <tr>\n",
              "      <th>4</th>\n",
              "      <td>0</td>\n",
              "      <td>skill</td>\n",
              "      <td>0.093659</td>\n",
              "    </tr>\n",
              "    <tr>\n",
              "      <th>89</th>\n",
              "      <td>1</td>\n",
              "      <td>purchase</td>\n",
              "      <td>0.246889</td>\n",
              "    </tr>\n",
              "    <tr>\n",
              "      <th>90</th>\n",
              "      <td>1</td>\n",
              "      <td>equipment</td>\n",
              "      <td>0.244892</td>\n",
              "    </tr>\n",
              "    <tr>\n",
              "      <th>91</th>\n",
              "      <td>1</td>\n",
              "      <td>new</td>\n",
              "      <td>0.089276</td>\n",
              "    </tr>\n",
              "    <tr>\n",
              "      <th>92</th>\n",
              "      <td>1</td>\n",
              "      <td>community</td>\n",
              "      <td>0.061887</td>\n",
              "    </tr>\n",
              "    <tr>\n",
              "      <th>93</th>\n",
              "      <td>1</td>\n",
              "      <td>safety</td>\n",
              "      <td>0.057613</td>\n",
              "    </tr>\n",
              "    <tr>\n",
              "      <th>178</th>\n",
              "      <td>2</td>\n",
              "      <td>life</td>\n",
              "      <td>0.287466</td>\n",
              "    </tr>\n",
              "    <tr>\n",
              "      <th>179</th>\n",
              "      <td>2</td>\n",
              "      <td>community</td>\n",
              "      <td>0.259890</td>\n",
              "    </tr>\n",
              "    <tr>\n",
              "      <th>180</th>\n",
              "      <td>2</td>\n",
              "      <td>impact</td>\n",
              "      <td>0.239267</td>\n",
              "    </tr>\n",
              "    <tr>\n",
              "      <th>181</th>\n",
              "      <td>2</td>\n",
              "      <td>initiative</td>\n",
              "      <td>0.235355</td>\n",
              "    </tr>\n",
              "    <tr>\n",
              "      <th>182</th>\n",
              "      <td>2</td>\n",
              "      <td>help</td>\n",
              "      <td>0.207110</td>\n",
              "    </tr>\n",
              "    <tr>\n",
              "      <th>267</th>\n",
              "      <td>3</td>\n",
              "      <td>community</td>\n",
              "      <td>0.084873</td>\n",
              "    </tr>\n",
              "    <tr>\n",
              "      <th>268</th>\n",
              "      <td>3</td>\n",
              "      <td>program</td>\n",
              "      <td>0.072744</td>\n",
              "    </tr>\n",
              "    <tr>\n",
              "      <th>269</th>\n",
              "      <td>3</td>\n",
              "      <td>support</td>\n",
              "      <td>0.069685</td>\n",
              "    </tr>\n",
              "    <tr>\n",
              "      <th>270</th>\n",
              "      <td>3</td>\n",
              "      <td>increase</td>\n",
              "      <td>0.061277</td>\n",
              "    </tr>\n",
              "    <tr>\n",
              "      <th>271</th>\n",
              "      <td>3</td>\n",
              "      <td>provide</td>\n",
              "      <td>0.055345</td>\n",
              "    </tr>\n",
              "  </tbody>\n",
              "</table>\n",
              "</div>"
            ],
            "text/plain": [
              "     clusters4   Features4   weights\n",
              "0            0       youth  0.314619\n",
              "1            0       child  0.179911\n",
              "2            0     program  0.141776\n",
              "3            0     support  0.093815\n",
              "4            0       skill  0.093659\n",
              "89           1    purchase  0.246889\n",
              "90           1   equipment  0.244892\n",
              "91           1         new  0.089276\n",
              "92           1   community  0.061887\n",
              "93           1      safety  0.057613\n",
              "178          2        life  0.287466\n",
              "179          2   community  0.259890\n",
              "180          2      impact  0.239267\n",
              "181          2  initiative  0.235355\n",
              "182          2        help  0.207110\n",
              "267          3   community  0.084873\n",
              "268          3     program  0.072744\n",
              "269          3     support  0.069685\n",
              "270          3    increase  0.061277\n",
              "271          3     provide  0.055345"
            ]
          },
          "metadata": {},
          "execution_count": 211
        }
      ]
    },
    {
      "cell_type": "markdown",
      "source": [
        "###6 Clusters - Retain as best grouping"
      ],
      "metadata": {
        "id": "J9J3oyQfP8Ui"
      }
    },
    {
      "cell_type": "code",
      "source": [
        "#Use K means to cluster extracted features\n",
        "# Apply k\n",
        "recompute = False\n",
        "\n",
        "if recompute:\n",
        "    k_model6 = KMeans(n_clusters=6)\n",
        "    k_model6.fit(Extracted_Features_scaled)\n",
        "    cluster_assignment6 = k_model6.predict(Extracted_Features_scaled)\n",
        "    clusters6=Extracted_Features_scaled.groupby(cluster_assignment6).mean()\n",
        "    clusters6\n",
        "\n",
        "    clusters_index6 = pd.Series(range(6))\n",
        "    clusters6['clusters6']=clusters_index6\n",
        "\n",
        "    # convert the dataframes into a long format\n",
        "    clusters6.set_index(['clusters6'], inplace=True)\n",
        "    clusters6.columns.names = ['Features6']\n",
        "    weights = clusters6.stack().to_frame()\n",
        "    weights.columns = ['weights']\n",
        "    clusters6=weights\n",
        "\n",
        "    #reset index\n",
        "    clusters6 = clusters6.reset_index()\n",
        "\n",
        "    #sort data by clusters and weights\n",
        "    clusters6=clusters6.sort_values(by=['clusters6','weights'], ascending=[True,False])\n",
        "    clusters6.to_csv('clusters6.csv', index=False)\n",
        "    clusters6\n",
        "\n",
        "else:\n",
        "    clusters6 = pd.read_csv('clusters6.csv')"
      ],
      "metadata": {
        "id": "H1l-hbyzP8Ui"
      },
      "execution_count": 192,
      "outputs": []
    },
    {
      "cell_type": "code",
      "source": [
        "clusters6_top5 = clusters6.groupby([\"clusters6\"]).apply(lambda x: x.sort_values([\"weights\"], ascending = False)).reset_index(drop=True)\n",
        "clusters6_top5=clusters6_top5.groupby('clusters6').head(5)\n",
        "clusters6_top5.to_csv('clusters6_top5.csv', index=False)\n",
        "clusters6_top5"
      ],
      "metadata": {
        "colab": {
          "base_uri": "https://localhost:8080/",
          "height": 989
        },
        "outputId": "912d4c71-ab39-43b6-c331-6359f8e8f673",
        "id": "dCupXlMPP8Uj"
      },
      "execution_count": 194,
      "outputs": [
        {
          "output_type": "execute_result",
          "data": {
            "text/html": [
              "<div>\n",
              "<style scoped>\n",
              "    .dataframe tbody tr th:only-of-type {\n",
              "        vertical-align: middle;\n",
              "    }\n",
              "\n",
              "    .dataframe tbody tr th {\n",
              "        vertical-align: top;\n",
              "    }\n",
              "\n",
              "    .dataframe thead th {\n",
              "        text-align: right;\n",
              "    }\n",
              "</style>\n",
              "<table border=\"1\" class=\"dataframe\">\n",
              "  <thead>\n",
              "    <tr style=\"text-align: right;\">\n",
              "      <th></th>\n",
              "      <th>clusters6</th>\n",
              "      <th>Features6</th>\n",
              "      <th>weights</th>\n",
              "    </tr>\n",
              "  </thead>\n",
              "  <tbody>\n",
              "    <tr>\n",
              "      <th>0</th>\n",
              "      <td>0</td>\n",
              "      <td>youth</td>\n",
              "      <td>0.374281</td>\n",
              "    </tr>\n",
              "    <tr>\n",
              "      <th>1</th>\n",
              "      <td>0</td>\n",
              "      <td>child</td>\n",
              "      <td>0.152739</td>\n",
              "    </tr>\n",
              "    <tr>\n",
              "      <th>2</th>\n",
              "      <td>0</td>\n",
              "      <td>program</td>\n",
              "      <td>0.130593</td>\n",
              "    </tr>\n",
              "    <tr>\n",
              "      <th>3</th>\n",
              "      <td>0</td>\n",
              "      <td>skill</td>\n",
              "      <td>0.100123</td>\n",
              "    </tr>\n",
              "    <tr>\n",
              "      <th>4</th>\n",
              "      <td>0</td>\n",
              "      <td>support</td>\n",
              "      <td>0.097540</td>\n",
              "    </tr>\n",
              "    <tr>\n",
              "      <th>89</th>\n",
              "      <td>1</td>\n",
              "      <td>purchase</td>\n",
              "      <td>0.303388</td>\n",
              "    </tr>\n",
              "    <tr>\n",
              "      <th>90</th>\n",
              "      <td>1</td>\n",
              "      <td>equipment</td>\n",
              "      <td>0.237906</td>\n",
              "    </tr>\n",
              "    <tr>\n",
              "      <th>91</th>\n",
              "      <td>1</td>\n",
              "      <td>new</td>\n",
              "      <td>0.095677</td>\n",
              "    </tr>\n",
              "    <tr>\n",
              "      <th>92</th>\n",
              "      <td>1</td>\n",
              "      <td>community</td>\n",
              "      <td>0.060803</td>\n",
              "    </tr>\n",
              "    <tr>\n",
              "      <th>93</th>\n",
              "      <td>1</td>\n",
              "      <td>provide</td>\n",
              "      <td>0.056222</td>\n",
              "    </tr>\n",
              "    <tr>\n",
              "      <th>178</th>\n",
              "      <td>2</td>\n",
              "      <td>program</td>\n",
              "      <td>0.097558</td>\n",
              "    </tr>\n",
              "    <tr>\n",
              "      <th>179</th>\n",
              "      <td>2</td>\n",
              "      <td>support</td>\n",
              "      <td>0.092394</td>\n",
              "    </tr>\n",
              "    <tr>\n",
              "      <th>180</th>\n",
              "      <td>2</td>\n",
              "      <td>develop</td>\n",
              "      <td>0.065394</td>\n",
              "    </tr>\n",
              "    <tr>\n",
              "      <th>181</th>\n",
              "      <td>2</td>\n",
              "      <td>community</td>\n",
              "      <td>0.062817</td>\n",
              "    </tr>\n",
              "    <tr>\n",
              "      <th>182</th>\n",
              "      <td>2</td>\n",
              "      <td>provide</td>\n",
              "      <td>0.059798</td>\n",
              "    </tr>\n",
              "    <tr>\n",
              "      <th>267</th>\n",
              "      <td>3</td>\n",
              "      <td>facility</td>\n",
              "      <td>0.136047</td>\n",
              "    </tr>\n",
              "    <tr>\n",
              "      <th>268</th>\n",
              "      <td>3</td>\n",
              "      <td>community</td>\n",
              "      <td>0.133649</td>\n",
              "    </tr>\n",
              "    <tr>\n",
              "      <th>269</th>\n",
              "      <td>3</td>\n",
              "      <td>renovate</td>\n",
              "      <td>0.082045</td>\n",
              "    </tr>\n",
              "    <tr>\n",
              "      <th>270</th>\n",
              "      <td>3</td>\n",
              "      <td>make</td>\n",
              "      <td>0.081513</td>\n",
              "    </tr>\n",
              "    <tr>\n",
              "      <th>271</th>\n",
              "      <td>3</td>\n",
              "      <td>improve</td>\n",
              "      <td>0.075429</td>\n",
              "    </tr>\n",
              "    <tr>\n",
              "      <th>356</th>\n",
              "      <td>4</td>\n",
              "      <td>capacity</td>\n",
              "      <td>0.439620</td>\n",
              "    </tr>\n",
              "    <tr>\n",
              "      <th>357</th>\n",
              "      <td>4</td>\n",
              "      <td>organization</td>\n",
              "      <td>0.152325</td>\n",
              "    </tr>\n",
              "    <tr>\n",
              "      <th>358</th>\n",
              "      <td>4</td>\n",
              "      <td>increase</td>\n",
              "      <td>0.138985</td>\n",
              "    </tr>\n",
              "    <tr>\n",
              "      <th>359</th>\n",
              "      <td>4</td>\n",
              "      <td>program</td>\n",
              "      <td>0.073065</td>\n",
              "    </tr>\n",
              "    <tr>\n",
              "      <th>360</th>\n",
              "      <td>4</td>\n",
              "      <td>volunteer</td>\n",
              "      <td>0.070821</td>\n",
              "    </tr>\n",
              "    <tr>\n",
              "      <th>445</th>\n",
              "      <td>5</td>\n",
              "      <td>life</td>\n",
              "      <td>0.287881</td>\n",
              "    </tr>\n",
              "    <tr>\n",
              "      <th>446</th>\n",
              "      <td>5</td>\n",
              "      <td>community</td>\n",
              "      <td>0.260482</td>\n",
              "    </tr>\n",
              "    <tr>\n",
              "      <th>447</th>\n",
              "      <td>5</td>\n",
              "      <td>impact</td>\n",
              "      <td>0.239757</td>\n",
              "    </tr>\n",
              "    <tr>\n",
              "      <th>448</th>\n",
              "      <td>5</td>\n",
              "      <td>initiative</td>\n",
              "      <td>0.235131</td>\n",
              "    </tr>\n",
              "    <tr>\n",
              "      <th>449</th>\n",
              "      <td>5</td>\n",
              "      <td>help</td>\n",
              "      <td>0.207713</td>\n",
              "    </tr>\n",
              "  </tbody>\n",
              "</table>\n",
              "</div>"
            ],
            "text/plain": [
              "     clusters6     Features6   weights\n",
              "0            0         youth  0.374281\n",
              "1            0         child  0.152739\n",
              "2            0       program  0.130593\n",
              "3            0         skill  0.100123\n",
              "4            0       support  0.097540\n",
              "89           1      purchase  0.303388\n",
              "90           1     equipment  0.237906\n",
              "91           1           new  0.095677\n",
              "92           1     community  0.060803\n",
              "93           1       provide  0.056222\n",
              "178          2       program  0.097558\n",
              "179          2       support  0.092394\n",
              "180          2       develop  0.065394\n",
              "181          2     community  0.062817\n",
              "182          2       provide  0.059798\n",
              "267          3      facility  0.136047\n",
              "268          3     community  0.133649\n",
              "269          3      renovate  0.082045\n",
              "270          3          make  0.081513\n",
              "271          3       improve  0.075429\n",
              "356          4      capacity  0.439620\n",
              "357          4  organization  0.152325\n",
              "358          4      increase  0.138985\n",
              "359          4       program  0.073065\n",
              "360          4     volunteer  0.070821\n",
              "445          5          life  0.287881\n",
              "446          5     community  0.260482\n",
              "447          5        impact  0.239757\n",
              "448          5    initiative  0.235131\n",
              "449          5          help  0.207713"
            ]
          },
          "metadata": {},
          "execution_count": 194
        }
      ]
    },
    {
      "cell_type": "markdown",
      "source": [
        "###7 Clusters"
      ],
      "metadata": {
        "id": "T6FaEiTh-SGN"
      }
    },
    {
      "cell_type": "code",
      "source": [
        "#Use K means to cluster extracted features\n",
        "# Apply k\n",
        "recompute = False\n",
        "\n",
        "if recompute:\n",
        "    k_model7 = KMeans(n_clusters=7)\n",
        "    k_model7.fit(Extracted_Features_scaled)\n",
        "    cluster_assignment7 = k_model7.predict(Extracted_Features_scaled)\n",
        "    clusters7=Extracted_Features_scaled.groupby(cluster_assignment7).mean()\n",
        "    clusters7\n",
        "\n",
        "    clusters_index7 = pd.Series(range(7))\n",
        "    clusters7['clusters7']=clusters_index7\n",
        "\n",
        "    # convert the dataframes into a long format\n",
        "    clusters7.set_index(['clusters7'], inplace=True)\n",
        "    clusters7.columns.names = ['Features7']\n",
        "    weights = clusters7.stack().to_frame()\n",
        "    weights.columns = ['weights']\n",
        "    clusters7=weights\n",
        "\n",
        "    #reset index\n",
        "    clusters7 = clusters7.reset_index()\n",
        "\n",
        "    #sort data by clusters and weights\n",
        "    clusters7=clusters7.sort_values(by=['clusters7','weights'], ascending=[True,False])\n",
        "    clusters7.to_csv('clusters7.csv', index=False)\n",
        "    clusters7\n",
        "\n",
        "else:\n",
        "    clusters7 = pd.read_csv('clusters7.csv')"
      ],
      "metadata": {
        "id": "RH9sKp0J-SGO"
      },
      "execution_count": null,
      "outputs": []
    },
    {
      "cell_type": "code",
      "source": [
        "clusters7_top5 = clusters7.groupby([\"clusters7\"]).apply(lambda x: x.sort_values([\"weights\"], ascending = False)).reset_index(drop=True)\n",
        "clusters7_top5=clusters7_top5.groupby('clusters7').head(5)\n",
        "clusters7_top5.to_csv('clusters7_top5.csv', index=False)\n",
        "clusters7_top5"
      ],
      "metadata": {
        "colab": {
          "base_uri": "https://localhost:8080/",
          "height": 1147
        },
        "outputId": "281c7429-28b8-46f8-e216-718e60d403cc",
        "id": "xUlvPMmA-SGO"
      },
      "execution_count": 166,
      "outputs": [
        {
          "output_type": "execute_result",
          "data": {
            "text/html": [
              "<div>\n",
              "<style scoped>\n",
              "    .dataframe tbody tr th:only-of-type {\n",
              "        vertical-align: middle;\n",
              "    }\n",
              "\n",
              "    .dataframe tbody tr th {\n",
              "        vertical-align: top;\n",
              "    }\n",
              "\n",
              "    .dataframe thead th {\n",
              "        text-align: right;\n",
              "    }\n",
              "</style>\n",
              "<table border=\"1\" class=\"dataframe\">\n",
              "  <thead>\n",
              "    <tr style=\"text-align: right;\">\n",
              "      <th></th>\n",
              "      <th>clusters7</th>\n",
              "      <th>Features7</th>\n",
              "      <th>weights</th>\n",
              "    </tr>\n",
              "  </thead>\n",
              "  <tbody>\n",
              "    <tr>\n",
              "      <th>0</th>\n",
              "      <td>0</td>\n",
              "      <td>purchase</td>\n",
              "      <td>0.317796</td>\n",
              "    </tr>\n",
              "    <tr>\n",
              "      <th>1</th>\n",
              "      <td>0</td>\n",
              "      <td>equipment</td>\n",
              "      <td>0.233675</td>\n",
              "    </tr>\n",
              "    <tr>\n",
              "      <th>2</th>\n",
              "      <td>0</td>\n",
              "      <td>new</td>\n",
              "      <td>0.095257</td>\n",
              "    </tr>\n",
              "    <tr>\n",
              "      <th>3</th>\n",
              "      <td>0</td>\n",
              "      <td>community</td>\n",
              "      <td>0.063897</td>\n",
              "    </tr>\n",
              "    <tr>\n",
              "      <th>4</th>\n",
              "      <td>0</td>\n",
              "      <td>provide</td>\n",
              "      <td>0.059027</td>\n",
              "    </tr>\n",
              "    <tr>\n",
              "      <th>89</th>\n",
              "      <td>1</td>\n",
              "      <td>program</td>\n",
              "      <td>0.140112</td>\n",
              "    </tr>\n",
              "    <tr>\n",
              "      <th>90</th>\n",
              "      <td>1</td>\n",
              "      <td>support</td>\n",
              "      <td>0.129596</td>\n",
              "    </tr>\n",
              "    <tr>\n",
              "      <th>91</th>\n",
              "      <td>1</td>\n",
              "      <td>develop</td>\n",
              "      <td>0.087186</td>\n",
              "    </tr>\n",
              "    <tr>\n",
              "      <th>92</th>\n",
              "      <td>1</td>\n",
              "      <td>volunteer</td>\n",
              "      <td>0.071598</td>\n",
              "    </tr>\n",
              "    <tr>\n",
              "      <th>93</th>\n",
              "      <td>1</td>\n",
              "      <td>staff</td>\n",
              "      <td>0.065780</td>\n",
              "    </tr>\n",
              "    <tr>\n",
              "      <th>178</th>\n",
              "      <td>2</td>\n",
              "      <td>youth</td>\n",
              "      <td>0.382528</td>\n",
              "    </tr>\n",
              "    <tr>\n",
              "      <th>179</th>\n",
              "      <td>2</td>\n",
              "      <td>child</td>\n",
              "      <td>0.153688</td>\n",
              "    </tr>\n",
              "    <tr>\n",
              "      <th>180</th>\n",
              "      <td>2</td>\n",
              "      <td>program</td>\n",
              "      <td>0.125399</td>\n",
              "    </tr>\n",
              "    <tr>\n",
              "      <th>181</th>\n",
              "      <td>2</td>\n",
              "      <td>skill</td>\n",
              "      <td>0.103780</td>\n",
              "    </tr>\n",
              "    <tr>\n",
              "      <th>182</th>\n",
              "      <td>2</td>\n",
              "      <td>support</td>\n",
              "      <td>0.097241</td>\n",
              "    </tr>\n",
              "    <tr>\n",
              "      <th>267</th>\n",
              "      <td>3</td>\n",
              "      <td>capacity</td>\n",
              "      <td>0.437013</td>\n",
              "    </tr>\n",
              "    <tr>\n",
              "      <th>268</th>\n",
              "      <td>3</td>\n",
              "      <td>organization</td>\n",
              "      <td>0.158904</td>\n",
              "    </tr>\n",
              "    <tr>\n",
              "      <th>269</th>\n",
              "      <td>3</td>\n",
              "      <td>increase</td>\n",
              "      <td>0.139724</td>\n",
              "    </tr>\n",
              "    <tr>\n",
              "      <th>270</th>\n",
              "      <td>3</td>\n",
              "      <td>program</td>\n",
              "      <td>0.072255</td>\n",
              "    </tr>\n",
              "    <tr>\n",
              "      <th>271</th>\n",
              "      <td>3</td>\n",
              "      <td>enhance</td>\n",
              "      <td>0.070824</td>\n",
              "    </tr>\n",
              "    <tr>\n",
              "      <th>356</th>\n",
              "      <td>4</td>\n",
              "      <td>community</td>\n",
              "      <td>0.117854</td>\n",
              "    </tr>\n",
              "    <tr>\n",
              "      <th>357</th>\n",
              "      <td>4</td>\n",
              "      <td>facility</td>\n",
              "      <td>0.065862</td>\n",
              "    </tr>\n",
              "    <tr>\n",
              "      <th>358</th>\n",
              "      <td>4</td>\n",
              "      <td>increase</td>\n",
              "      <td>0.056633</td>\n",
              "    </tr>\n",
              "    <tr>\n",
              "      <th>359</th>\n",
              "      <td>4</td>\n",
              "      <td>provide</td>\n",
              "      <td>0.052391</td>\n",
              "    </tr>\n",
              "    <tr>\n",
              "      <th>360</th>\n",
              "      <td>4</td>\n",
              "      <td>centre</td>\n",
              "      <td>0.048650</td>\n",
              "    </tr>\n",
              "    <tr>\n",
              "      <th>445</th>\n",
              "      <td>5</td>\n",
              "      <td>life</td>\n",
              "      <td>0.290890</td>\n",
              "    </tr>\n",
              "    <tr>\n",
              "      <th>446</th>\n",
              "      <td>5</td>\n",
              "      <td>community</td>\n",
              "      <td>0.254597</td>\n",
              "    </tr>\n",
              "    <tr>\n",
              "      <th>447</th>\n",
              "      <td>5</td>\n",
              "      <td>impact</td>\n",
              "      <td>0.242255</td>\n",
              "    </tr>\n",
              "    <tr>\n",
              "      <th>448</th>\n",
              "      <td>5</td>\n",
              "      <td>initiative</td>\n",
              "      <td>0.236905</td>\n",
              "    </tr>\n",
              "    <tr>\n",
              "      <th>449</th>\n",
              "      <td>5</td>\n",
              "      <td>help</td>\n",
              "      <td>0.209105</td>\n",
              "    </tr>\n",
              "    <tr>\n",
              "      <th>534</th>\n",
              "      <td>6</td>\n",
              "      <td>safety</td>\n",
              "      <td>0.526524</td>\n",
              "    </tr>\n",
              "    <tr>\n",
              "      <th>535</th>\n",
              "      <td>6</td>\n",
              "      <td>improve</td>\n",
              "      <td>0.117563</td>\n",
              "    </tr>\n",
              "    <tr>\n",
              "      <th>536</th>\n",
              "      <td>6</td>\n",
              "      <td>equipment</td>\n",
              "      <td>0.102895</td>\n",
              "    </tr>\n",
              "    <tr>\n",
              "      <th>537</th>\n",
              "      <td>6</td>\n",
              "      <td>purchase</td>\n",
              "      <td>0.079497</td>\n",
              "    </tr>\n",
              "    <tr>\n",
              "      <th>538</th>\n",
              "      <td>6</td>\n",
              "      <td>increase</td>\n",
              "      <td>0.072135</td>\n",
              "    </tr>\n",
              "  </tbody>\n",
              "</table>\n",
              "</div>"
            ],
            "text/plain": [
              "     clusters7     Features7   weights\n",
              "0            0      purchase  0.317796\n",
              "1            0     equipment  0.233675\n",
              "2            0           new  0.095257\n",
              "3            0     community  0.063897\n",
              "4            0       provide  0.059027\n",
              "89           1       program  0.140112\n",
              "90           1       support  0.129596\n",
              "91           1       develop  0.087186\n",
              "92           1     volunteer  0.071598\n",
              "93           1         staff  0.065780\n",
              "178          2         youth  0.382528\n",
              "179          2         child  0.153688\n",
              "180          2       program  0.125399\n",
              "181          2         skill  0.103780\n",
              "182          2       support  0.097241\n",
              "267          3      capacity  0.437013\n",
              "268          3  organization  0.158904\n",
              "269          3      increase  0.139724\n",
              "270          3       program  0.072255\n",
              "271          3       enhance  0.070824\n",
              "356          4     community  0.117854\n",
              "357          4      facility  0.065862\n",
              "358          4      increase  0.056633\n",
              "359          4       provide  0.052391\n",
              "360          4        centre  0.048650\n",
              "445          5          life  0.290890\n",
              "446          5     community  0.254597\n",
              "447          5        impact  0.242255\n",
              "448          5    initiative  0.236905\n",
              "449          5          help  0.209105\n",
              "534          6        safety  0.526524\n",
              "535          6       improve  0.117563\n",
              "536          6     equipment  0.102895\n",
              "537          6      purchase  0.079497\n",
              "538          6      increase  0.072135"
            ]
          },
          "metadata": {},
          "execution_count": 166
        }
      ]
    },
    {
      "cell_type": "markdown",
      "source": [
        "###9 Clusters"
      ],
      "metadata": {
        "id": "9TRY92gS_vqo"
      }
    },
    {
      "cell_type": "code",
      "source": [
        "#Use K means to cluster extracted features\n",
        "# Apply k\n",
        "recompute = False\n",
        "\n",
        "if recompute:\n",
        "    k_model9 = KMeans(n_clusters=9)\n",
        "    k_model9.fit(Extracted_Features_scaled)\n",
        "    cluster_assignment9 = k_model9.predict(Extracted_Features_scaled)\n",
        "    clusters9=Extracted_Features_scaled.groupby(cluster_assignment9).mean()\n",
        "    clusters9\n",
        "\n",
        "    clusters_index9 = pd.Series(range(9))\n",
        "    clusters9['clusters9']=clusters_index9\n",
        "\n",
        "    # convert the dataframes into a long format\n",
        "    clusters9.set_index(['clusters9'], inplace=True)\n",
        "    clusters9.columns.names = ['Features9']\n",
        "    weights = clusters9.stack().to_frame()\n",
        "    weights.columns = ['weights']\n",
        "    clusters9=weights\n",
        "\n",
        "    #reset index\n",
        "    clusters9 = clusters9.reset_index()\n",
        "\n",
        "    #sort data by clusters and weights\n",
        "    clusters9=clusters9.sort_values(by=['clusters9','weights'], ascending=[True,False])\n",
        "    clusters9.to_csv('clusters9.csv', index=False)\n",
        "    clusters9\n",
        "\n",
        "else:\n",
        "    clusters9 = pd.read_csv('clusters9.csv')"
      ],
      "metadata": {
        "id": "wf43rzue_vqp"
      },
      "execution_count": 167,
      "outputs": []
    },
    {
      "cell_type": "code",
      "source": [
        "clusters9_top5 = clusters9.groupby([\"clusters9\"]).apply(lambda x: x.sort_values([\"weights\"], ascending = False)).reset_index(drop=True)\n",
        "clusters9_top5=clusters9_top5.groupby('clusters9').head(5)\n",
        "clusters9_top5.to_csv('clusters9_top5.csv', index=False)\n",
        "clusters9_top5"
      ],
      "metadata": {
        "colab": {
          "base_uri": "https://localhost:8080/",
          "height": 1460
        },
        "outputId": "3ec92ff2-b7dc-42d2-cf3a-c16527656d7f",
        "id": "M1houaYS_vqp"
      },
      "execution_count": 168,
      "outputs": [
        {
          "output_type": "execute_result",
          "data": {
            "text/html": [
              "<div>\n",
              "<style scoped>\n",
              "    .dataframe tbody tr th:only-of-type {\n",
              "        vertical-align: middle;\n",
              "    }\n",
              "\n",
              "    .dataframe tbody tr th {\n",
              "        vertical-align: top;\n",
              "    }\n",
              "\n",
              "    .dataframe thead th {\n",
              "        text-align: right;\n",
              "    }\n",
              "</style>\n",
              "<table border=\"1\" class=\"dataframe\">\n",
              "  <thead>\n",
              "    <tr style=\"text-align: right;\">\n",
              "      <th></th>\n",
              "      <th>clusters9</th>\n",
              "      <th>Features9</th>\n",
              "      <th>weights</th>\n",
              "    </tr>\n",
              "  </thead>\n",
              "  <tbody>\n",
              "    <tr>\n",
              "      <th>0</th>\n",
              "      <td>0</td>\n",
              "      <td>purchase</td>\n",
              "      <td>0.312162</td>\n",
              "    </tr>\n",
              "    <tr>\n",
              "      <th>1</th>\n",
              "      <td>0</td>\n",
              "      <td>equipment</td>\n",
              "      <td>0.238033</td>\n",
              "    </tr>\n",
              "    <tr>\n",
              "      <th>2</th>\n",
              "      <td>0</td>\n",
              "      <td>new</td>\n",
              "      <td>0.098551</td>\n",
              "    </tr>\n",
              "    <tr>\n",
              "      <th>3</th>\n",
              "      <td>0</td>\n",
              "      <td>community</td>\n",
              "      <td>0.062883</td>\n",
              "    </tr>\n",
              "    <tr>\n",
              "      <th>4</th>\n",
              "      <td>0</td>\n",
              "      <td>safety</td>\n",
              "      <td>0.058232</td>\n",
              "    </tr>\n",
              "    <tr>\n",
              "      <th>89</th>\n",
              "      <td>1</td>\n",
              "      <td>community</td>\n",
              "      <td>0.086798</td>\n",
              "    </tr>\n",
              "    <tr>\n",
              "      <th>90</th>\n",
              "      <td>1</td>\n",
              "      <td>program</td>\n",
              "      <td>0.072441</td>\n",
              "    </tr>\n",
              "    <tr>\n",
              "      <th>91</th>\n",
              "      <td>1</td>\n",
              "      <td>provide</td>\n",
              "      <td>0.056993</td>\n",
              "    </tr>\n",
              "    <tr>\n",
              "      <th>92</th>\n",
              "      <td>1</td>\n",
              "      <td>increase</td>\n",
              "      <td>0.055676</td>\n",
              "    </tr>\n",
              "    <tr>\n",
              "      <th>93</th>\n",
              "      <td>1</td>\n",
              "      <td>develop</td>\n",
              "      <td>0.053009</td>\n",
              "    </tr>\n",
              "    <tr>\n",
              "      <th>178</th>\n",
              "      <td>2</td>\n",
              "      <td>community</td>\n",
              "      <td>0.298523</td>\n",
              "    </tr>\n",
              "    <tr>\n",
              "      <th>179</th>\n",
              "      <td>2</td>\n",
              "      <td>life</td>\n",
              "      <td>0.271059</td>\n",
              "    </tr>\n",
              "    <tr>\n",
              "      <th>180</th>\n",
              "      <td>2</td>\n",
              "      <td>impact</td>\n",
              "      <td>0.260637</td>\n",
              "    </tr>\n",
              "    <tr>\n",
              "      <th>181</th>\n",
              "      <td>2</td>\n",
              "      <td>initiative</td>\n",
              "      <td>0.254023</td>\n",
              "    </tr>\n",
              "    <tr>\n",
              "      <th>182</th>\n",
              "      <td>2</td>\n",
              "      <td>help</td>\n",
              "      <td>0.225627</td>\n",
              "    </tr>\n",
              "    <tr>\n",
              "      <th>267</th>\n",
              "      <td>3</td>\n",
              "      <td>capacity</td>\n",
              "      <td>0.446071</td>\n",
              "    </tr>\n",
              "    <tr>\n",
              "      <th>268</th>\n",
              "      <td>3</td>\n",
              "      <td>organization</td>\n",
              "      <td>0.154977</td>\n",
              "    </tr>\n",
              "    <tr>\n",
              "      <th>269</th>\n",
              "      <td>3</td>\n",
              "      <td>increase</td>\n",
              "      <td>0.142293</td>\n",
              "    </tr>\n",
              "    <tr>\n",
              "      <th>270</th>\n",
              "      <td>3</td>\n",
              "      <td>program</td>\n",
              "      <td>0.073452</td>\n",
              "    </tr>\n",
              "    <tr>\n",
              "      <th>271</th>\n",
              "      <td>3</td>\n",
              "      <td>enhance</td>\n",
              "      <td>0.071627</td>\n",
              "    </tr>\n",
              "    <tr>\n",
              "      <th>356</th>\n",
              "      <td>4</td>\n",
              "      <td>heritage</td>\n",
              "      <td>0.481029</td>\n",
              "    </tr>\n",
              "    <tr>\n",
              "      <th>357</th>\n",
              "      <td>4</td>\n",
              "      <td>culture</td>\n",
              "      <td>0.230291</td>\n",
              "    </tr>\n",
              "    <tr>\n",
              "      <th>358</th>\n",
              "      <td>4</td>\n",
              "      <td>life</td>\n",
              "      <td>0.204346</td>\n",
              "    </tr>\n",
              "    <tr>\n",
              "      <th>359</th>\n",
              "      <td>4</td>\n",
              "      <td>cultural</td>\n",
              "      <td>0.134260</td>\n",
              "    </tr>\n",
              "    <tr>\n",
              "      <th>360</th>\n",
              "      <td>4</td>\n",
              "      <td>initiative</td>\n",
              "      <td>0.108959</td>\n",
              "    </tr>\n",
              "    <tr>\n",
              "      <th>445</th>\n",
              "      <td>5</td>\n",
              "      <td>support</td>\n",
              "      <td>0.327693</td>\n",
              "    </tr>\n",
              "    <tr>\n",
              "      <th>446</th>\n",
              "      <td>5</td>\n",
              "      <td>program</td>\n",
              "      <td>0.104330</td>\n",
              "    </tr>\n",
              "    <tr>\n",
              "      <th>447</th>\n",
              "      <td>5</td>\n",
              "      <td>provide</td>\n",
              "      <td>0.072908</td>\n",
              "    </tr>\n",
              "    <tr>\n",
              "      <th>448</th>\n",
              "      <td>5</td>\n",
              "      <td>community</td>\n",
              "      <td>0.064777</td>\n",
              "    </tr>\n",
              "    <tr>\n",
              "      <th>449</th>\n",
              "      <td>5</td>\n",
              "      <td>staff</td>\n",
              "      <td>0.060480</td>\n",
              "    </tr>\n",
              "    <tr>\n",
              "      <th>534</th>\n",
              "      <td>6</td>\n",
              "      <td>hire</td>\n",
              "      <td>0.292477</td>\n",
              "    </tr>\n",
              "    <tr>\n",
              "      <th>535</th>\n",
              "      <td>6</td>\n",
              "      <td>coordinator</td>\n",
              "      <td>0.259506</td>\n",
              "    </tr>\n",
              "    <tr>\n",
              "      <th>536</th>\n",
              "      <td>6</td>\n",
              "      <td>program</td>\n",
              "      <td>0.112959</td>\n",
              "    </tr>\n",
              "    <tr>\n",
              "      <th>537</th>\n",
              "      <td>6</td>\n",
              "      <td>staff</td>\n",
              "      <td>0.082957</td>\n",
              "    </tr>\n",
              "    <tr>\n",
              "      <th>538</th>\n",
              "      <td>6</td>\n",
              "      <td>volunteer</td>\n",
              "      <td>0.078711</td>\n",
              "    </tr>\n",
              "    <tr>\n",
              "      <th>623</th>\n",
              "      <td>7</td>\n",
              "      <td>youth</td>\n",
              "      <td>0.383310</td>\n",
              "    </tr>\n",
              "    <tr>\n",
              "      <th>624</th>\n",
              "      <td>7</td>\n",
              "      <td>child</td>\n",
              "      <td>0.163977</td>\n",
              "    </tr>\n",
              "    <tr>\n",
              "      <th>625</th>\n",
              "      <td>7</td>\n",
              "      <td>program</td>\n",
              "      <td>0.133204</td>\n",
              "    </tr>\n",
              "    <tr>\n",
              "      <th>626</th>\n",
              "      <td>7</td>\n",
              "      <td>skill</td>\n",
              "      <td>0.113670</td>\n",
              "    </tr>\n",
              "    <tr>\n",
              "      <th>627</th>\n",
              "      <td>7</td>\n",
              "      <td>support</td>\n",
              "      <td>0.090749</td>\n",
              "    </tr>\n",
              "    <tr>\n",
              "      <th>712</th>\n",
              "      <td>8</td>\n",
              "      <td>facility</td>\n",
              "      <td>0.396503</td>\n",
              "    </tr>\n",
              "    <tr>\n",
              "      <th>713</th>\n",
              "      <td>8</td>\n",
              "      <td>community</td>\n",
              "      <td>0.115768</td>\n",
              "    </tr>\n",
              "    <tr>\n",
              "      <th>714</th>\n",
              "      <td>8</td>\n",
              "      <td>make</td>\n",
              "      <td>0.083209</td>\n",
              "    </tr>\n",
              "    <tr>\n",
              "      <th>715</th>\n",
              "      <td>8</td>\n",
              "      <td>upgrade</td>\n",
              "      <td>0.079881</td>\n",
              "    </tr>\n",
              "    <tr>\n",
              "      <th>716</th>\n",
              "      <td>8</td>\n",
              "      <td>renovate</td>\n",
              "      <td>0.078342</td>\n",
              "    </tr>\n",
              "  </tbody>\n",
              "</table>\n",
              "</div>"
            ],
            "text/plain": [
              "     clusters9     Features9   weights\n",
              "0            0      purchase  0.312162\n",
              "1            0     equipment  0.238033\n",
              "2            0           new  0.098551\n",
              "3            0     community  0.062883\n",
              "4            0        safety  0.058232\n",
              "89           1     community  0.086798\n",
              "90           1       program  0.072441\n",
              "91           1       provide  0.056993\n",
              "92           1      increase  0.055676\n",
              "93           1       develop  0.053009\n",
              "178          2     community  0.298523\n",
              "179          2          life  0.271059\n",
              "180          2        impact  0.260637\n",
              "181          2    initiative  0.254023\n",
              "182          2          help  0.225627\n",
              "267          3      capacity  0.446071\n",
              "268          3  organization  0.154977\n",
              "269          3      increase  0.142293\n",
              "270          3       program  0.073452\n",
              "271          3       enhance  0.071627\n",
              "356          4      heritage  0.481029\n",
              "357          4       culture  0.230291\n",
              "358          4          life  0.204346\n",
              "359          4      cultural  0.134260\n",
              "360          4    initiative  0.108959\n",
              "445          5       support  0.327693\n",
              "446          5       program  0.104330\n",
              "447          5       provide  0.072908\n",
              "448          5     community  0.064777\n",
              "449          5         staff  0.060480\n",
              "534          6          hire  0.292477\n",
              "535          6   coordinator  0.259506\n",
              "536          6       program  0.112959\n",
              "537          6         staff  0.082957\n",
              "538          6     volunteer  0.078711\n",
              "623          7         youth  0.383310\n",
              "624          7         child  0.163977\n",
              "625          7       program  0.133204\n",
              "626          7         skill  0.113670\n",
              "627          7       support  0.090749\n",
              "712          8      facility  0.396503\n",
              "713          8     community  0.115768\n",
              "714          8          make  0.083209\n",
              "715          8       upgrade  0.079881\n",
              "716          8      renovate  0.078342"
            ]
          },
          "metadata": {},
          "execution_count": 168
        }
      ]
    },
    {
      "cell_type": "code",
      "source": [
        "#merge extracted features to data\n",
        "#Drop unecessary columns\n",
        "\n",
        "Merged_data = pd.concat([data, Extracted_Features], axis=1)\n",
        "Merged_data = Merged_data.drop(['amount_awarded', 'geographical_area',\t'identifier','planned_duration',\n",
        "             'org_name',\t'submission_date',\t'approval_date',\t'amount_applied',\t'description',\t\n",
        "             'program_area',\t'budget_fund',\t'org_incorporation_num',\t'org_charitable_reg_num',\n",
        "             'org_city',\t'org_postcode',\t'population_served',\t'age_group'], axis=1)\n",
        "\n",
        "\n",
        "#Add cluster assignment column\n",
        "Merged_data['cluster_assignment6']=cluster_assignment6\n",
        "\n",
        "#Recode Grant Program and Fiscal Year string data\n",
        "# creating a dict file \n",
        "grants = {'Community Building Fund': 1,'Community Investments': 2, 'Other Programs':3, 'Resilient Communities Fund':4, 'Youth Opportunities Fund':5 }\n",
        "year = {'2021-2022':2021, '2020-2021':2020, '2019-2020':2019, '2018-2019':2018, '2017-2018':2017,\n",
        "       '2016-2017':2016, '2015-2016':2015, '2014-2015':2014, '2013-2014':2013, '2012-2013':2012,\n",
        "       '2011-2012':2011, '2010-2011':2010, '2009-2010':2009, '2008-2009':2008, '2007-2008':2007,\n",
        "       '2006-2007':2006, '2005-2006':2005, '2004-2005':2004, '2003-2004':2003, '2002-2003':2002,\n",
        "       '2001-2002':2001, '2000-2001':2000, '1999-2000':1999}\n",
        "  \n",
        "\n",
        "# traverse through dataframe and writing values where key matches  \n",
        "Merged_data.grant_program = [grants[item] for item in Merged_data.grant_program]\n",
        "Merged_data.fiscal_year = [year[item] for item in Merged_data.fiscal_year]\n"
      ],
      "metadata": {
        "id": "I8DDEnsWGjxg"
      },
      "execution_count": 197,
      "outputs": []
    },
    {
      "cell_type": "markdown",
      "source": [
        "### Examining Grant Program distribution over the last 20 years"
      ],
      "metadata": {
        "id": "93EBDSM1CLB5"
      }
    },
    {
      "cell_type": "code",
      "metadata": {
        "id": "DAIyZwlFPo3N",
        "colab": {
          "base_uri": "https://localhost:8080/",
          "height": 415
        },
        "outputId": "c2000581-01dd-4f7c-bc52-a5c460c1c98c"
      },
      "source": [
        "# Examining Grant Program distribution over the last 20 years\n",
        "\n",
        "sns.set(style=\"darkgrid\")\n",
        "ax = Merged_data.plot.scatter('fiscal_year','grant_program')#, color=Merged_data['grant_program'].map(color_mapping))\n",
        "plt.yticks(range(1, 6))\n",
        "ax.set_yticklabels(('Community Building Fund','Community Investments', 'Other Programs', 'Resilient Communities Fund', 'Youth Opportunities Fund'))"
      ],
      "execution_count": 182,
      "outputs": [
        {
          "output_type": "stream",
          "name": "stderr",
          "text": [
            "*c* argument looks like a single numeric RGB or RGBA sequence, which should be avoided as value-mapping will have precedence in case its length matches with *x* & *y*.  Please use the *color* keyword-argument or provide a 2-D array with a single row if you intend to specify the same RGB or RGBA value for all points.\n"
          ]
        },
        {
          "output_type": "execute_result",
          "data": {
            "text/plain": [
              "[Text(0, 0, 'Community Building Fund'),\n",
              " Text(0, 0, 'Community Investments'),\n",
              " Text(0, 0, 'Other Programs'),\n",
              " Text(0, 0, 'Resilient Communities Fund'),\n",
              " Text(0, 0, 'Youth Opportunities Fund')]"
            ]
          },
          "metadata": {},
          "execution_count": 182
        },
        {
          "output_type": "display_data",
          "data": {
            "image/png": "[encoded data removed]",
            "text/plain": [
              "<Figure size 432x288 with 1 Axes>"
            ]
          },
          "metadata": {}
        }
      ]
    },
    {
      "cell_type": "code",
      "metadata": {
        "colab": {
          "base_uri": "https://localhost:8080/",
          "height": 395
        },
        "id": "jTpaa8_2yF_D",
        "outputId": "91740320-1b29-4d76-dc82-f31e6b7d6c54"
      },
      "source": [
        "# Examining Cluster distribution over the last 20 years\n",
        "\n",
        "colors = sns.color_palette('husl', n_colors=Merged_data['cluster_assignment6'].nunique()) \n",
        "colors_mapping = {x:colors[x] for x in Merged_data['cluster_assignment6'].unique()}\n",
        "\n",
        "ax = Merged_data.plot.scatter('fiscal_year','cluster_assignment6', color=Merged_data['cluster_assignment6'].map(colors_mapping))\n",
        "plt.yticks(range(0, 6))\n",
        "ax.set_yticklabels(('Youth and Child Fund','Purchase New Equipment', 'Programme Support', 'Building Fund', 'Organization Capacity Building','Community Impact'))"
      ],
      "execution_count": 200,
      "outputs": [
        {
          "output_type": "execute_result",
          "data": {
            "text/plain": [
              "[Text(0, 0, 'Youth and Child'),\n",
              " Text(0, 0, 'Purchase New Equipment'),\n",
              " Text(0, 0, 'Programme Support'),\n",
              " Text(0, 0, 'Building Fund'),\n",
              " Text(0, 0, 'Organization Capacity Building'),\n",
              " Text(0, 0, 'Community Impact')]"
            ]
          },
          "metadata": {},
          "execution_count": 200
        },
        {
          "output_type": "display_data",
          "data": {
            "image/png": "[encoded data removed]",
            "text/plain": [
              "<Figure size 432x288 with 1 Axes>"
            ]
          },
          "metadata": {}
        }
      ]
    },
    {
      "cell_type": "code",
      "metadata": {
        "colab": {
          "base_uri": "https://localhost:8080/",
          "height": 445
        },
        "id": "3ZQMLU1JE8h1",
        "outputId": "acb55928-a60b-4711-cbce-0095dcdb4716"
      },
      "source": [
        "ax = Merged_data.plot.scatter('cluster_assignment6', 'grant_program', color=Merged_data['cluster_assignment6'].map(colors_mapping))\n",
        "plt.yticks(range(1, 6))\n",
        "ax.set_yticklabels(('Community Building Fund','Community Investments', 'Other Programs', 'Resilient Communities Fund', 'Youth Opportunities Fund'))\n",
        "plt.xticks(range(0, 6))\n",
        "ax.set_xticklabels(('Youth and Child Fund','Purchase New Equipment', 'Programme Support', 'Building Fund', 'Organization Capacity Building','Community Impact'))\n",
        "for item in ax.get_xticklabels():\n",
        "    item.set_rotation(90)"
      ],
      "execution_count": 209,
      "outputs": [
        {
          "output_type": "display_data",
          "data": {
            "image/png": "[encoded data removed]",
            "text/plain": [
              "<Figure size 432x288 with 1 Axes>"
            ]
          },
          "metadata": {}
        }
      ]
    }
  ]
}